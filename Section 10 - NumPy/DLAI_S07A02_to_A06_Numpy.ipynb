{
  "nbformat": 4,
  "nbformat_minor": 0,
  "metadata": {
    "colab": {
      "provenance": []
    },
    "kernelspec": {
      "name": "python3",
      "display_name": "Python 3"
    }
  },
  "cells": [
    {
      "cell_type": "markdown",
      "metadata": {
        "id": "vTe7ouN1DnOM"
      },
      "source": [
        "# DLAI S07A02 - Numpy"
      ]
    },
    {
      "cell_type": "code",
      "metadata": {
        "id": "qu9a3gjmbhj0",
        "outputId": "f523709d-1c6b-4027-fc5d-b88f9040448c",
        "colab": {
          "base_uri": "https://localhost:8080/",
          "height": 34
        }
      },
      "source": [
        "\"\"\"\n",
        "You are now already aware as why we should learn numpy library, so lets understand as how to work with numpy library.\n",
        "\n",
        "In a brief way, we can say that --> \n",
        "The numpy library provides us with an array data structure that has many benefits over Python lists, like:\n",
        "  It is more compact,\n",
        "  It is having faster access in reading and writing the items, and\n",
        "  Its more convenient & efficient to work with.\n",
        "  s\n",
        "  \n",
        "As you might have  already noticed in last video, the NumPy arrays are a bit like Python lists, \n",
        "but still very much different at the same time. \n",
        "\n",
        "So, lets start with understanding about the array object.\n",
        "\n",
        "To begin with, I will create an array like this, so that you can get an intuition as how it looks like.\n",
        "(dont read the code)\n",
        "\"\"\"\n",
        "import numpy as np\n",
        "print(np.array([1,2,3,4,5]))"
      ],
      "execution_count": null,
      "outputs": [
        {
          "output_type": "stream",
          "text": [
            "[1 2 3 4 5]\n"
          ],
          "name": "stdout"
        }
      ]
    },
    {
      "cell_type": "code",
      "metadata": {
        "id": "fRasvk2ndt2p",
        "outputId": "741fd478-3cf9-463e-fec5-eb0634d4e86f",
        "colab": {
          "base_uri": "https://localhost:8080/",
          "height": 51
        }
      },
      "source": [
        "\n",
        "\"\"\"\n",
        "Okay, this is an example of an array. As you might have guessed already, an Array is nothing but the grid that contains the values \n",
        "of the same type.\n",
        " \n",
        "So, this is one of the important difference from the python lists. The python list can contain the values \n",
        "which belong to different data types,\n",
        "But, in case of Numpy arrays, it can have the values which are of the same data type, and it will be numbers.\n",
        "\n",
        "Got it ?\n",
        "Yes.\n",
        "\n",
        "The array which I have created just now, is called as 'One Dimensional Array'\n",
        "\n",
        "You can Think of an one dimensional array,  as a column or a row, of a table which contains one or more elements init like this.\n",
        "\n",
        "Now, Apart from sing le dimensional array,\n",
        "We also have 'Multi Dimensional array'\n",
        "\n",
        "To build the intuition, you can think of an Excel Spreadsheet — which the data in the form of columns and rows. \n",
        "So, thats the 2-d array\n",
        "\n",
        "To illustrate as how a 2-d array look like, \n",
        "I will write the code like this .\n",
        "(dont read the code)\n",
        "\"\"\"\n",
        "arr1 = np.array([[1,2,3],[4,5,6]])\n",
        "print(arr1)"
      ],
      "execution_count": null,
      "outputs": [
        {
          "output_type": "stream",
          "text": [
            "[[1 2 3]\n",
            " [4 5 6]]\n"
          ],
          "name": "stdout"
        }
      ]
    },
    {
      "cell_type": "code",
      "metadata": {
        "id": "GFePFYIqffDz",
        "outputId": "58c04257-4b9d-4155-84a7-d1d44af3008d",
        "colab": {
          "base_uri": "https://localhost:8080/",
          "height": 34
        }
      },
      "source": [
        "\"\"\"\n",
        "As you can see in the output, the array which I have printed just now has 2 rows & 3 columns.\n",
        "\n",
        "I hope you now have an idea as how 1d array & 2d array looks like.\n",
        "\n",
        "During the process of data analysis, one of the common attribute, that is, the property of an array which\n",
        "we consider before performing any mathematical operation is --> Shape of an array\n",
        "\n",
        "lets see how we can check the Shape of an array.\n",
        "\n",
        "to chec k the shape of any array, We call as --> Array_name.shape\n",
        "So, I will call as :\n",
        "\"\"\"\n",
        "print(arr1.shape)"
      ],
      "execution_count": null,
      "outputs": [
        {
          "output_type": "stream",
          "text": [
            "(2, 3)\n"
          ],
          "name": "stdout"
        }
      ]
    },
    {
      "cell_type": "code",
      "metadata": {
        "id": "hMpybUtMfzad"
      },
      "source": [
        "\"\"\"\n",
        "okay. We have the output that says : 2,3\n",
        "That means, the array has 2 rows & 3 columns of data.\n",
        "\n",
        "So, we now know two basic things in Numpy arrays.\n",
        "that is,how an array looks like, and how to check its shape.\n",
        "\n",
        "Now, lets proceed to understand as how to create an array.\n",
        "\n",
        "To create an array using the numpy library, we first have to import the package for our\n",
        "working.\n",
        "We import it by running the command like this.\n",
        "\"\"\"\n",
        "import numpy as np\n",
        "\"\"\"\n",
        "This line means, we are importing the numpy library for our session,\n",
        "and instead of calling the complete name as 'numpy' we will be using the short hand as --> 'np'\n",
        "\n",
        "Okay, I will now execute the code\n",
        "\"\"\";"
      ],
      "execution_count": null,
      "outputs": []
    },
    {
      "cell_type": "code",
      "metadata": {
        "id": "i3F5Z8pEgmmS",
        "outputId": "bc2c7177-23b0-499d-a68d-5e8eacc05ea2",
        "colab": {
          "base_uri": "https://localhost:8080/",
          "height": 34
        }
      },
      "source": [
        "\"\"\"\n",
        "Done. this has imported the library.\n",
        "\n",
        "Now, lets see whether it has been successfully imported or not, by checking its version.\n",
        "\n",
        "To print the version of numpy we make use of the command as :\n",
        "(it is double scores in below command)\n",
        "\"\"\"\n",
        "print(np.__version__) \n",
        "#and then I will execute the code"
      ],
      "execution_count": null,
      "outputs": [
        {
          "output_type": "execute_result",
          "data": {
            "text/plain": [
              "'1.17.3'"
            ]
          },
          "metadata": {
            "tags": []
          },
          "execution_count": 8
        }
      ]
    },
    {
      "cell_type": "code",
      "metadata": {
        "id": "M6Jt3nLCgv2d"
      },
      "source": [
        "\"\"\"\n",
        "Okay, We have the output that says,\n",
        "the current version of numpy library running in my system is --> 1.17.3\n",
        "\n",
        "Guys, one quick note, your version of numpy installed might be different than mine, but the important observation should be,\n",
        "you should have the some output which displays the version of numpy which is installed in your computer.\n",
        "Got it ? okay.\n",
        "\n",
        "Now, lets create a numpy array\n",
        "\n",
        "To create a new numpy array, we make use of np.array() function, \n",
        "and Inside the paranthesis, we will pass the python list or tuple which we want to convert to a numpy array.\n",
        "\n",
        "To illustrate, I will first create a python list like this\n",
        "\"\"\"\n",
        "py_list = [1,2,3,4,5,6]\n",
        "\n",
        "\"\"\"\n",
        "Now, To convert this python list into numpy array,\n",
        "We simply pass into np.array function like this.\n",
        "So, I will will call as\n",
        "\"\"\"\n",
        "py_arr = np.array(py_list)\n",
        "\n",
        "# Okay, I will now execute the code\n"
      ],
      "execution_count": null,
      "outputs": []
    },
    {
      "cell_type": "code",
      "metadata": {
        "id": "Y6Abf9A3h9_o",
        "outputId": "0431f0b7-aa6a-4a34-d5fc-6feda2113db2",
        "colab": {
          "base_uri": "https://localhost:8080/",
          "height": 34
        }
      },
      "source": [
        "\"\"\"\n",
        "Its done.\n",
        "Now, lets check the type of the newly created array.\n",
        "\"\"\"\n",
        "print(type(py_arr))"
      ],
      "execution_count": null,
      "outputs": [
        {
          "output_type": "stream",
          "text": [
            "<class 'numpy.ndarray'>\n"
          ],
          "name": "stdout"
        }
      ]
    },
    {
      "cell_type": "code",
      "metadata": {
        "id": "uyrXcmtQiF_G",
        "outputId": "1b11b98e-b8a7-4178-8467-2d9037385d30",
        "colab": {
          "base_uri": "https://localhost:8080/",
          "height": 34
        }
      },
      "source": [
        "\"\"\"\n",
        "As we can see in the output, \n",
        "This array is of type 'ndarray'\n",
        "Which is nothing but  'n dimensional array'.\n",
        "\n",
        "The function which we have used just now, that is --> np.array,  takes in many parameters.\n",
        "\n",
        "To see how to use a particular function & its parameters, we just write the required\n",
        "function, and press the --> (Shift + Tab key) in the keyboard \n",
        "\n",
        "now, this has displayed the docstring of numpy.array function. We can display the complete documentaion by\n",
        "pressing the plus symmbol here.\n",
        "\n",
        "okay, \n",
        "As we can see, these are the parameters that --> np.array function accepts.\n",
        "\n",
        "As a first parameter it accepts the object. That means, the object, that has to be coverted to numpy array.\n",
        "Then, the second most important parameter we make use is --> dtype.\n",
        "This is nothing but the Data type we want to have the array elements \n",
        "\n",
        "To illustrate this,\n",
        "I will write the code like this\n",
        "\"\"\"\n",
        "py_list = [1,2,3,4,5,6]\n",
        "py_arr = np.array(py_list, dtype = 'float')\n",
        "print(py_arr)\n",
        "\n",
        "\"\"\"\n",
        "As you can observe, \n",
        "This time, I have made use of the parameter --> dtype, and set it equal to float.\n",
        "\n",
        "and then, I have printed the resulting array.\n",
        "\n",
        "Okay. Lets execute this\n",
        "\"\"\";"
      ],
      "execution_count": null,
      "outputs": [
        {
          "output_type": "stream",
          "text": [
            "[1. 2. 3. 4. 5. 6.]\n"
          ],
          "name": "stdout"
        }
      ]
    },
    {
      "cell_type": "code",
      "metadata": {
        "id": "nkZtQR78j-34"
      },
      "source": [
        "\"\"\"\n",
        "As we can see in the output, the resulting array has the elements in the form of floating\n",
        "point numbers.\n",
        "\n",
        "In this way,\n",
        "we can make use of the parameter 'dtype' to specify the data type of the array.\n",
        "\n",
        "The avaliable data types in Numpy array are:\n",
        "  Boolean\n",
        "  Integer\n",
        "  Float &\n",
        "  Complex\n",
        "\n",
        "Got it ? Great.\n",
        "\"\"\""
      ],
      "execution_count": null,
      "outputs": []
    },
    {
      "cell_type": "code",
      "metadata": {
        "id": "JAf1gTDEla_p",
        "outputId": "20f31bbf-ff74-4a7b-e713-2d21eed19279",
        "colab": {
          "base_uri": "https://localhost:8080/",
          "height": 51
        }
      },
      "source": [
        "\"\"\"\n",
        "So, We have now learnt as how to create a single dimensional array,\n",
        "Lets see, how we can create a multi dimensional array.\n",
        "\n",
        "To create a multi dimensional array, we just pass-in the series of lists inside the \n",
        "parentheses of np.array function\n",
        "\"\"\"\n",
        "py_list1 = [1,2,3]\n",
        "py_list2 = [4,5,6]\n",
        "arr1 = np.array([py_list1,py_list2],dtype = 'float')\n",
        "print(arr1)\n",
        "\"\"\"\n",
        "As you can see,\n",
        "I am passing the python lists inside the np.array, and specifying the data type to be float.\n",
        "Okay.\n",
        "I will now execute this\n",
        "\"\"\";"
      ],
      "execution_count": null,
      "outputs": [
        {
          "output_type": "stream",
          "text": [
            "[[1. 2. 3.]\n",
            " [4. 5. 6.]]\n"
          ],
          "name": "stdout"
        }
      ]
    },
    {
      "cell_type": "code",
      "metadata": {
        "id": "93xk47LElbed",
        "outputId": "127e70b9-23fe-4807-8962-56de97496675",
        "colab": {
          "base_uri": "https://localhost:8080/",
          "height": 34
        }
      },
      "source": [
        "\"\"\"\n",
        "So, we have the resulting array that looks like this.\n",
        "To confirm whether its 2d array or not,\n",
        "lets print the shape of the array.\n",
        "So,\n",
        "\"\"\"\n",
        "print(arr1.shape)\n"
      ],
      "execution_count": null,
      "outputs": [
        {
          "output_type": "stream",
          "text": [
            "(2, 3)\n"
          ],
          "name": "stdout"
        }
      ]
    },
    {
      "cell_type": "code",
      "metadata": {
        "id": "mrteI7vDmXmm",
        "outputId": "3e1fb1a9-a189-48a9-c0ea-9633f9cf7f09",
        "colab": {
          "base_uri": "https://localhost:8080/",
          "height": 51
        }
      },
      "source": [
        "\"\"\"\n",
        "We have the output as --> (2,3)\n",
        "This means, we have 2 rows and 3 columns\n",
        "\n",
        "Or we can also interpret the shape as --> the array_1 has 2 indices.\n",
        "One index runs between 0 and 1, and the other index runs between 0 and 2\n",
        "\n",
        "Now, Apart from manually passing the elements inside the np.array function,\n",
        "there are many ways to create numpy arrays.\n",
        "\n",
        "So ,Lets look at the common methodologies of creating the numpy arrays.\n",
        "\n",
        "First lets see how we can create an empty array.\n",
        "\n",
        "To create an array without any element, we make use of --> np.empty function,\n",
        "and inside the parenethese we will specify the shape of the array we want to generate.\n",
        "One thing we hae to note is that, we specify the shape inside a tuple. \n",
        "\n",
        "To illustrate, I will write the code like this\n",
        "\"\"\"\n",
        "np.empty((2,1)) \n",
        "#So, this will create 1D array of 2 elements,\n",
        "#okay, I will now execute the code\n"
      ],
      "execution_count": null,
      "outputs": [
        {
          "output_type": "execute_result",
          "data": {
            "text/plain": [
              "array([[2.40600563e-316],\n",
              "       [9.88131292e-324]])"
            ]
          },
          "metadata": {
            "tags": []
          },
          "execution_count": 19
        }
      ]
    },
    {
      "cell_type": "code",
      "metadata": {
        "id": "CYs6paYunT7v",
        "outputId": "d7357270-2cb4-4a5b-a498-c6dafdeaa8b4",
        "colab": {
          "base_uri": "https://localhost:8080/",
          "height": 255
        }
      },
      "source": [
        "\"\"\"\n",
        "So We have an output like this,\n",
        "\n",
        "Like I said already, this has created a empty array. that means, the elements of that array are the \n",
        "values present on that memory location\n",
        "\n",
        "Just to give you more information as how it works,\n",
        "I will create one more empty array like this\n",
        "\"\"\"\n",
        "np.empty((5,2,3))"
      ],
      "execution_count": null,
      "outputs": [
        {
          "output_type": "execute_result",
          "data": {
            "text/plain": [
              "array([[[2.97556371e-316, 9.58487353e-322, 0.00000000e+000],\n",
              "        [0.00000000e+000, 1.69759663e-313, 2.14027814e+161]],\n",
              "\n",
              "       [[5.04621383e+180, 4.50618615e-144, 4.27255699e+180],\n",
              "        [2.91237123e+257, 5.56111702e+180, 2.16385138e+190]],\n",
              "\n",
              "       [[2.74045673e+180, 1.85494573e-051, 4.08963275e-037],\n",
              "        [2.12936711e-052, 4.26416525e-096, 9.08366791e+223]],\n",
              "\n",
              "       [[4.25756448e-096, 9.08366793e+223, 2.80295737e-032],\n",
              "        [2.21698688e-056, 6.10228910e+170, 3.89337950e-033]],\n",
              "\n",
              "       [[1.41529402e+161, 9.16651763e-072, 3.67220938e+097],\n",
              "        [3.89563885e-033, 3.75757692e+126, 1.58268989e-319]]])"
            ]
          },
          "metadata": {
            "tags": []
          },
          "execution_count": 18
        }
      ]
    },
    {
      "cell_type": "code",
      "metadata": {
        "id": "-gwtGeDMnti9",
        "outputId": "322e7f47-cd00-4629-9bf5-bddb0184540a",
        "colab": {
          "base_uri": "https://localhost:8080/",
          "height": 85
        }
      },
      "source": [
        "\"\"\"\n",
        "So, this is generated another array of shape --> (5,2,3)\n",
        "\n",
        "Guys, I just want to re-iterate that,\n",
        "these methods of creating an array with the use of inbuilt functions of numpy library are very important\n",
        "You will see me using these in the future sections of this course,So i want you to learn & practice after the completion\n",
        "of this section.\n",
        "\n",
        "Now, moving on,\n",
        "We can Create an array of ones by making use of --> np.ones function,\n",
        "So it is\n",
        "\"\"\"\n",
        "arr = np.ones((4,3))\n",
        "print(arr)"
      ],
      "execution_count": null,
      "outputs": [
        {
          "output_type": "stream",
          "text": [
            "[[1. 1. 1.]\n",
            " [1. 1. 1.]\n",
            " [1. 1. 1.]\n",
            " [1. 1. 1.]]\n"
          ],
          "name": "stdout"
        }
      ]
    },
    {
      "cell_type": "code",
      "metadata": {
        "id": "TbREZTJ5oa0a",
        "outputId": "408818c6-9009-4450-82cc-887e1c66cd0c",
        "colab": {
          "base_uri": "https://localhost:8080/",
          "height": 34
        }
      },
      "source": [
        "\"\"\"\n",
        "As you observed, we are passing the required dimension of array inside the tuple as a first argument.,\n",
        "and the newly created array has all the elements equal to 1\n",
        "\n",
        "Now, If I display the shape of newly created array, This is of shape 4,3\n",
        "\"\"\"\n",
        "arr.shape"
      ],
      "execution_count": null,
      "outputs": [
        {
          "output_type": "execute_result",
          "data": {
            "text/plain": [
              "(4, 3)"
            ]
          },
          "metadata": {
            "tags": []
          },
          "execution_count": 22
        }
      ]
    },
    {
      "cell_type": "code",
      "metadata": {
        "id": "f5tODGE7otE-",
        "outputId": "2c7d5bfd-203d-4ff9-bc84-d3bd46884ab9",
        "colab": {
          "base_uri": "https://localhost:8080/",
          "height": 102
        }
      },
      "source": [
        "\"\"\"\n",
        "Similary,\n",
        "We can create an array of zeros like this.\n",
        "\"\"\"\n",
        "np.zeros((5,3))"
      ],
      "execution_count": null,
      "outputs": [
        {
          "output_type": "execute_result",
          "data": {
            "text/plain": [
              "array([[0., 0., 0.],\n",
              "       [0., 0., 0.],\n",
              "       [0., 0., 0.],\n",
              "       [0., 0., 0.],\n",
              "       [0., 0., 0.]])"
            ]
          },
          "metadata": {
            "tags": []
          },
          "execution_count": 23
        }
      ]
    },
    {
      "cell_type": "code",
      "metadata": {
        "id": "mdBM8xLIo7u0",
        "outputId": "926253ae-987d-4bef-b3f4-2bb36802fc07",
        "colab": {
          "base_uri": "https://localhost:8080/",
          "height": 68
        }
      },
      "source": [
        "\"\"\"\n",
        "Most of the inbuilt functions of creating an array has the first parameter as shape of the required array,\n",
        "hence we are passing the required shape of array inside the tuple for this as well.\n",
        "this array, has all the elements equal to zero\n",
        "\n",
        "One more very commonly used function to generate the array is --> np.random.random() function.\n",
        "\n",
        "So ,We can create an array with random values by making use of the random module of numpy like this\n",
        "\"\"\"\n",
        "print(np.random.random((3,3)))\n",
        "                 \n",
        "\"\"\"\n",
        "So, this will generate an array with random numbers between 0 and 1, and the array will be of shape (3,3)\n",
        "I will now execute the code\n",
        "\"\"\";"
      ],
      "execution_count": null,
      "outputs": [
        {
          "output_type": "stream",
          "text": [
            "[[0.56116812 0.40734552 0.21594291]\n",
            " [0.23434276 0.28444691 0.43767692]\n",
            " [0.29633026 0.75904662 0.28888758]]\n"
          ],
          "name": "stdout"
        }
      ]
    },
    {
      "cell_type": "code",
      "metadata": {
        "id": "dYlrhLEsp1gv",
        "outputId": "bd7b5065-5382-4ec2-aedc-919dba341f25",
        "colab": {
          "base_uri": "https://localhost:8080/",
          "height": 51
        }
      },
      "source": [
        "\"\"\"\n",
        "We can also create the array with same values by making use of np.full function\n",
        "\n",
        "For the np.full function,\n",
        "as a first parameter we specify the shape of the resultant array inside the tuple, and \n",
        "we specify the second parameter to be equal to 'value' that should be filled inside the array.\n",
        "\n",
        "For example,\n",
        "If I write as :\n",
        "\"\"\"\n",
        "print(np.full((2,3),5))\n",
        "\"\"\"\n",
        "This will generate the array of shape - 2,3\n",
        "and, all the elements will be equal to 5\n",
        "\n",
        "lets test it out\n",
        "\"\"\";"
      ],
      "execution_count": null,
      "outputs": [
        {
          "output_type": "stream",
          "text": [
            "[[5 5 5]\n",
            " [5 5 5]]\n"
          ],
          "name": "stdout"
        }
      ]
    },
    {
      "cell_type": "code",
      "metadata": {
        "id": "BGOfiqyUqFFI",
        "outputId": "4ffd00db-51ef-487b-e403-6915cddd4b19",
        "colab": {
          "base_uri": "https://localhost:8080/",
          "height": 34
        }
      },
      "source": [
        "\"\"\"\n",
        "okay, as we can see in the output.\n",
        "The resulting array is of shape --> 2,3\n",
        "and, all the elements of the array is equal to 5.\n",
        "\n",
        "Another very common way of generating a numpy array is, with the use of arange function\n",
        "\n",
        "The arange function in numpy, works similar to range function which we have seen in the section of\n",
        "core python\n",
        "\n",
        "The syntax of arange function is :\n",
        "numpy.arange(start, end, step, data type)\n",
        "\n",
        "So, if i call as :\n",
        "\"\"\"\n",
        "print(np.arange(5,15))\n",
        "\"\"\"\n",
        "This will generate the numpy array with elements between 5 and 15\n",
        "and here, just like range function,\n",
        "the number  --> 5 is inclusive, and the number 15 is exclusive.\n",
        "Lets execute the code\n",
        "\"\"\";"
      ],
      "execution_count": null,
      "outputs": [
        {
          "output_type": "stream",
          "text": [
            "[ 5  6  7  8  9 10 11 12 13 14]\n"
          ],
          "name": "stdout"
        }
      ]
    },
    {
      "cell_type": "code",
      "metadata": {
        "id": "l2hFsZfMsPXi",
        "outputId": "fa67bcaa-4a06-4002-ae6b-e842aee9d1f7",
        "colab": {
          "base_uri": "https://localhost:8080/",
          "height": 34
        }
      },
      "source": [
        "\"\"\"\n",
        "As we can see in the output, this has generated the array with numbers between 5 and 15, that is , till 14\n",
        "\n",
        "Now, If I call the arange function like this.\n",
        "that is,\n",
        "\"\"\"\n",
        "print(np.arange(4))"
      ],
      "execution_count": null,
      "outputs": [
        {
          "output_type": "stream",
          "text": [
            "[0 1 2 3]\n"
          ],
          "name": "stdout"
        }
      ]
    },
    {
      "cell_type": "code",
      "metadata": {
        "id": "hU4momtTsinZ",
        "outputId": "497bc577-ca57-4b9c-bb90-9d1a5aba36a6",
        "colab": {
          "base_uri": "https://localhost:8080/",
          "height": 34
        }
      },
      "source": [
        "\"\"\"\n",
        "This has genreated an array between 0 and 4\n",
        "\n",
        "That means, if we enter only one value inside the --> np.arange function,\n",
        "the system will set the default start value as --> zero,and generate a numpy array with the values till the number specified.\n",
        "\n",
        "Now, this time, I will pass-in one more parameter, that is --> step size \n",
        "So will write as,\n",
        "\"\"\"\n",
        "print(np.arange(5,120,10))\n",
        "#Okay. I will now execute the code"
      ],
      "execution_count": null,
      "outputs": [
        {
          "output_type": "stream",
          "text": [
            "[  5  15  25  35  45  55  65  75  85  95 105 115]\n"
          ],
          "name": "stdout"
        }
      ]
    },
    {
      "cell_type": "code",
      "metadata": {
        "id": "QJAdUsGctA7n",
        "outputId": "5779b353-c1a0-4f31-c03b-510fc5e21e03",
        "colab": {
          "base_uri": "https://localhost:8080/",
          "height": 85
        }
      },
      "source": [
        "\"\"\"\n",
        "As we can see in the output,\n",
        "this has generated an array with values between 5 and 120, with step size of 10.\n",
        "So in this way, we make use of the np.arange function to generate the required array.\n",
        "\n",
        "Apart from this function,\n",
        "we have np.linspace function.\n",
        "\n",
        "We use it quite a lot of times when we are plotting a curve in matplotlib library\n",
        "\n",
        "the syntax of np.linspace function is : numpy.linspace(first point, last point, number of points)\n",
        "For example, if I call as :\n",
        "\"\"\"\n",
        "print(np.linspace(5,10,20))\n",
        "# and then execute the code"
      ],
      "execution_count": null,
      "outputs": [
        {
          "output_type": "stream",
          "text": [
            "[ 5.          5.26315789  5.52631579  5.78947368  6.05263158  6.31578947\n",
            "  6.57894737  6.84210526  7.10526316  7.36842105  7.63157895  7.89473684\n",
            "  8.15789474  8.42105263  8.68421053  8.94736842  9.21052632  9.47368421\n",
            "  9.73684211 10.        ]\n"
          ],
          "name": "stdout"
        }
      ]
    },
    {
      "cell_type": "code",
      "metadata": {
        "id": "Ybn3lQtktr5-",
        "outputId": "1f69cd91-8bdf-4de7-a20b-1c600012b6b1",
        "colab": {
          "base_uri": "https://localhost:8080/",
          "height": 85
        }
      },
      "source": [
        "\"\"\"\n",
        "Okay, as we can see in the output,\n",
        "This has generated 20 equally spaced points between the values 5 & 10.\n",
        "\n",
        "Finally, we can also create identity matrix with the use of np.eye function.\n",
        "\n",
        "The way we call this function, np.eye, and inside the parenthese\n",
        "we will specify the shape of the required matrix.\n",
        "So, I will write as :\n",
        "\"\"\"\n",
        "print(np.eye(4,4))\n",
        "#and then, execute the code"
      ],
      "execution_count": null,
      "outputs": [
        {
          "output_type": "stream",
          "text": [
            "[[1. 0. 0. 0.]\n",
            " [0. 1. 0. 0.]\n",
            " [0. 0. 1. 0.]\n",
            " [0. 0. 0. 1.]]\n"
          ],
          "name": "stdout"
        }
      ]
    },
    {
      "cell_type": "code",
      "metadata": {
        "id": "MnD7VY9guIvn"
      },
      "source": [
        "\"\"\"\n",
        "So, this has created an identity matrix of size 4,4 with diagonal elements equal to 1.\n",
        "\n",
        "So this was about the creating different arrays using the numpy library.\n",
        "I highly recommend you to practice these methods of creating numpy arrays as we will be making use of these concepts in future sections of\n",
        "deep learning while creating the array for weights and biases and instantiating to some random values.\n",
        "\n",
        "So, this is very very important guys.\n",
        "\n",
        "Lets continue more on Numpy from the next video. See you then.\n",
        "\"\"\""
      ],
      "execution_count": null,
      "outputs": []
    },
    {
      "cell_type": "markdown",
      "metadata": {
        "id": "8NgX4rQ4AUgM"
      },
      "source": [
        "# DLAI S07A03 - Resize & Reshape of arrays"
      ]
    },
    {
      "cell_type": "code",
      "metadata": {
        "id": "2A-FIYwaAXKO",
        "outputId": "95a2be1c-3f2d-4449-8f0b-b5305d3cd919",
        "colab": {
          "base_uri": "https://localhost:8080/",
          "height": 121
        }
      },
      "source": [
        "\"\"\"\n",
        "In the last video we have learnt as how we create THE arrays using numpy library.\n",
        "\n",
        "Like I mentioned already, One of the common & most important attribute we use in array object is --> \n",
        "'shape' of an array.\n",
        "So, I will write it like this\n",
        "\"\"\"\n",
        "import numpy as np\n",
        "arr1 = np.random.random((5,3))\n",
        "#Now, I will print the shape of the array_1 along with its elements. So,\n",
        "print(arr1.shape)\n",
        "print(arr1)"
      ],
      "execution_count": null,
      "outputs": [
        {
          "output_type": "stream",
          "text": [
            "(5, 3)\n",
            "[[0.36871654 0.1742937  0.16902692]\n",
            " [0.33828518 0.51729789 0.02745121]\n",
            " [0.17358681 0.40508906 0.65721506]\n",
            " [0.26081159 0.94002107 0.72679414]\n",
            " [0.29643776 0.47728916 0.44326029]]\n"
          ],
          "name": "stdout"
        }
      ]
    },
    {
      "cell_type": "code",
      "metadata": {
        "id": "g0cWnuHYBOfA",
        "outputId": "2886a732-e5f0-49a6-9d55-43998fefa430",
        "colab": {
          "base_uri": "https://localhost:8080/",
          "height": 276
        }
      },
      "source": [
        "\"\"\"\n",
        "Okay.\n",
        "We now the have output which displays the shape of the array_1 as --> 5,3\n",
        "\n",
        "In deep learning or machine learning, One of the common operation we perform is --> modifying the shape of\n",
        "an array to the required shape so that, we can perform the required mathematical operation.\n",
        "\n",
        "Now, To change the shape of the array, we have two methods available in numpy array.\n",
        "They are --> Resize & Reshape\n",
        "\n",
        "The Resize & Reshape are the commonly used methods which are present inside the numpy package.\n",
        "\n",
        "So, lets start with learning how to use resize method.\n",
        "\n",
        "I will now call the resize method on array_1 like this -->\n",
        "\"\"\"\n",
        "arr2 = np.resize(arr1,(15,1))\n",
        "print(arr2)\n",
        "\n",
        "\"\"\"\n",
        "That means, we call the resize method as --> np (dot) resize, and inside the parentheses\n",
        "we will specify the array name which we are modifying as a first argument,\n",
        "and required shape of the new array inside a tuple as second argument. \n",
        "Okay ?\n",
        "yes. here I have specified the required new shape as --> (15,1)\n",
        "\n",
        "I will now execute the code\n",
        "\n",
        "\"\"\""
      ],
      "execution_count": null,
      "outputs": [
        {
          "output_type": "stream",
          "text": [
            "[[0.36871654]\n",
            " [0.1742937 ]\n",
            " [0.16902692]\n",
            " [0.33828518]\n",
            " [0.51729789]\n",
            " [0.02745121]\n",
            " [0.17358681]\n",
            " [0.40508906]\n",
            " [0.65721506]\n",
            " [0.26081159]\n",
            " [0.94002107]\n",
            " [0.72679414]\n",
            " [0.29643776]\n",
            " [0.47728916]\n",
            " [0.44326029]]\n"
          ],
          "name": "stdout"
        }
      ]
    },
    {
      "cell_type": "code",
      "metadata": {
        "id": "Ff_oJZHjDJT6",
        "outputId": "a1991494-942f-466a-f33e-8d67c2beadda",
        "colab": {
          "base_uri": "https://localhost:8080/",
          "height": 34
        }
      },
      "source": [
        "\"\"\"\n",
        "As we can see in the output, we have changed the shape of the array_1 from (5,3) to (15,1) as per our\n",
        "required dimension of the array.\n",
        "Now, If I call the shape attribute of the array_2 as:\n",
        "\"\"\"\n",
        "arr2.shape"
      ],
      "execution_count": null,
      "outputs": [
        {
          "output_type": "execute_result",
          "data": {
            "text/plain": [
              "(15, 1)"
            ]
          },
          "metadata": {
            "tags": []
          },
          "execution_count": 14
        }
      ]
    },
    {
      "cell_type": "code",
      "metadata": {
        "id": "za76ht7LENtB",
        "outputId": "0f77de18-ef33-49fd-cf13-454cd6255847",
        "colab": {
          "base_uri": "https://localhost:8080/",
          "height": 121
        }
      },
      "source": [
        "\"\"\"\n",
        "We have the output as --> (15,1)\n",
        "I hope you now have an idea as how we can how we can apply resize method on an array\n",
        "\n",
        "Here, One of the important property is,\n",
        "If we apply the resize on our array with larger dimensions than the one which our array has,\n",
        "Then, the new array which gets created, will be filled with copies of the original array.\n",
        "\n",
        "This process of filling with copies of original array are repeated as many times as it is needed.\n",
        "To illustrate the same,\n",
        "lets consider the same array_1\n",
        "First, I will print its elements,along with its shape. So,\n",
        "\"\"\"\n",
        "print(arr1)\n",
        "print(arr1.shape)"
      ],
      "execution_count": null,
      "outputs": [
        {
          "output_type": "stream",
          "text": [
            "[[0.36871654 0.1742937  0.16902692]\n",
            " [0.33828518 0.51729789 0.02745121]\n",
            " [0.17358681 0.40508906 0.65721506]\n",
            " [0.26081159 0.94002107 0.72679414]\n",
            " [0.29643776 0.47728916 0.44326029]]\n",
            "(5, 3)\n"
          ],
          "name": "stdout"
        }
      ]
    },
    {
      "cell_type": "code",
      "metadata": {
        "id": "G4jxNGH7FIN9",
        "outputId": "b995ab47-a128-4168-ab67-4e302680e8af",
        "colab": {
          "base_uri": "https://localhost:8080/",
          "height": 121
        }
      },
      "source": [
        "\"\"\"\n",
        "Okay, this is how the elements inside the array_1 looks like, and has the shape of (5,3)\n",
        "that means, the arrays has total of 15 elements\n",
        "\n",
        "Now, lets say, I will call the resize function like this\n",
        "\"\"\"\n",
        "arr3 = np.resize(arr1,(6,4))\n",
        "print(arr3)\n",
        "\n",
        "\"\"\"\n",
        "So, this time,\n",
        "I am trying to resize the array_1 which has the shape of (5,3)\n",
        "into a new array of shape (6,4)\n",
        "\n",
        "Now, lets see what happens, I will now execute the code\n",
        "\"\"\";"
      ],
      "execution_count": null,
      "outputs": [
        {
          "output_type": "stream",
          "text": [
            "[[0.36871654 0.1742937  0.16902692 0.33828518]\n",
            " [0.51729789 0.02745121 0.17358681 0.40508906]\n",
            " [0.65721506 0.26081159 0.94002107 0.72679414]\n",
            " [0.29643776 0.47728916 0.44326029 0.36871654]\n",
            " [0.1742937  0.16902692 0.33828518 0.51729789]\n",
            " [0.02745121 0.17358681 0.40508906 0.65721506]]\n"
          ],
          "name": "stdout"
        }
      ]
    },
    {
      "cell_type": "code",
      "metadata": {
        "id": "VAOVx6--FxoW",
        "outputId": "503e1b66-86c1-4d55-efcd-dbdc0a0d52ed",
        "colab": {
          "base_uri": "https://localhost:8080/",
          "height": 138
        }
      },
      "source": [
        "\"\"\"\n",
        "Okay.\n",
        "\n",
        "As we can see in the output, \n",
        "the array_2 is now created, and it has the shape of (6,4)\n",
        "\n",
        "but, if you observe the elements, after the 15 elements of the array_1, the elements \n",
        "are again filled from first so that, it would match the required dimension of (6,4)\n",
        "\n",
        "I hope you now have an idea as how resize function works in python.\n",
        "\n",
        "Apart from resize function, we can change the shape of array, by making use of 'reshape' function.\n",
        "But one thing we have to keep in mind while using the reshape function is,\n",
        "The total size of new array should match with the original array.\n",
        "\n",
        "Let me write the program to explain this.\n",
        "\n",
        "Suppose if I have an array of size 6,3 \n",
        "Say,\n",
        "\"\"\"\n",
        "arr4 = np.random.random((6,3))\n",
        "#dont read below two lines\n",
        "print(arr4.shape)\n",
        "print(arr4)"
      ],
      "execution_count": null,
      "outputs": [
        {
          "output_type": "stream",
          "text": [
            "(6, 3)\n",
            "[[0.24235399 0.08473531 0.08835072]\n",
            " [0.46556044 0.33182572 0.29698058]\n",
            " [0.55916307 0.58409219 0.59146794]\n",
            " [0.15695336 0.91201059 0.32379207]\n",
            " [0.92060936 0.76012151 0.60868017]\n",
            " [0.70821279 0.40753098 0.60688967]]\n"
          ],
          "name": "stdout"
        }
      ]
    },
    {
      "cell_type": "code",
      "metadata": {
        "id": "WFgAvaPwG8wn",
        "outputId": "93bb89d4-75c7-4c5e-d59c-c8925e459522",
        "colab": {
          "base_uri": "https://localhost:8080/",
          "height": 224
        }
      },
      "source": [
        "\"\"\"\n",
        "So, this is the array 4, and it has the shape of (6,3) .\n",
        "That means, the total number of elements is --> (6*3) which is equal to 18.\n",
        "\n",
        "So, the possible dimensions to which we can transform these 18 elements are (2,9) ,  (9,2) ,   (3,6)   (18,1) , (1,18),   (3,3,2) , and so on.\n",
        "that means, it can only be transformed to the shape which has the total number of elements is equal to 18\n",
        "\n",
        "Now, I will call the reshape function like this\n",
        "\"\"\"\n",
        "arr5 = np.reshape(arr4,(3,3,2))\n",
        "print(arr5.shape)\n",
        "print(arr5)"
      ],
      "execution_count": null,
      "outputs": [
        {
          "output_type": "stream",
          "text": [
            "(3, 3, 2)\n",
            "[[[0.24235399 0.08473531]\n",
            "  [0.08835072 0.46556044]\n",
            "  [0.33182572 0.29698058]]\n",
            "\n",
            " [[0.55916307 0.58409219]\n",
            "  [0.59146794 0.15695336]\n",
            "  [0.91201059 0.32379207]]\n",
            "\n",
            " [[0.92060936 0.76012151]\n",
            "  [0.60868017 0.70821279]\n",
            "  [0.40753098 0.60688967]]]\n"
          ],
          "name": "stdout"
        }
      ]
    },
    {
      "cell_type": "code",
      "metadata": {
        "id": "DrAcOm0gI7g5",
        "outputId": "b33343bc-6b49-4ad8-8000-efda72713eaf",
        "colab": {
          "base_uri": "https://localhost:8080/",
          "height": 415
        }
      },
      "source": [
        "\"\"\"\n",
        "As we can see in the output,\n",
        "the shape of the new array_5 is (3,3,2)\n",
        "and, it has just re arranged the values in array_4 so that , it matches with dimensions\n",
        "of new array.\n",
        "\n",
        "We were able to perform the reshape because, the total number of elements in the new array is same\n",
        "as the original one.\n",
        "\n",
        "Now, Lets say I will call as :\n",
        "\"\"\"\n",
        "arr6 = np.reshape(arr4,(6,4))\n",
        "print(arr6)\n",
        "print(arr6.shape)\n",
        "\"\"\"\n",
        "So, this time,\n",
        "I am trying to reshape the arr4 which has 18 elements into the shape as --> 6,4\n",
        "that is, 24 elements\n",
        "\n",
        "lets see what happens, \n",
        "okay. I will now execute the code\n",
        "\"\"\";"
      ],
      "execution_count": null,
      "outputs": [
        {
          "output_type": "error",
          "ename": "ValueError",
          "evalue": "ignored",
          "traceback": [
            "\u001b[0;31m---------------------------------------------------------------------------\u001b[0m",
            "\u001b[0;31mValueError\u001b[0m                                Traceback (most recent call last)",
            "\u001b[0;32m<ipython-input-19-9498dbdb223f>\u001b[0m in \u001b[0;36m<module>\u001b[0;34m()\u001b[0m\n\u001b[1;32m      6\u001b[0m \u001b[0mNow\u001b[0m\u001b[0;34m,\u001b[0m \u001b[0mLets\u001b[0m \u001b[0msay\u001b[0m \u001b[0mI\u001b[0m \u001b[0mwill\u001b[0m \u001b[0mcall\u001b[0m \u001b[0;32mas\u001b[0m \u001b[0;34m:\u001b[0m\u001b[0;34m\u001b[0m\u001b[0;34m\u001b[0m\u001b[0m\n\u001b[1;32m      7\u001b[0m \"\"\"\n\u001b[0;32m----> 8\u001b[0;31m \u001b[0marr6\u001b[0m \u001b[0;34m=\u001b[0m \u001b[0mnp\u001b[0m\u001b[0;34m.\u001b[0m\u001b[0mreshape\u001b[0m\u001b[0;34m(\u001b[0m\u001b[0marr4\u001b[0m\u001b[0;34m,\u001b[0m\u001b[0;34m(\u001b[0m\u001b[0;36m6\u001b[0m\u001b[0;34m,\u001b[0m\u001b[0;36m4\u001b[0m\u001b[0;34m)\u001b[0m\u001b[0;34m)\u001b[0m\u001b[0;34m\u001b[0m\u001b[0;34m\u001b[0m\u001b[0m\n\u001b[0m\u001b[1;32m      9\u001b[0m \u001b[0mprint\u001b[0m\u001b[0;34m(\u001b[0m\u001b[0marr6\u001b[0m\u001b[0;34m)\u001b[0m\u001b[0;34m\u001b[0m\u001b[0;34m\u001b[0m\u001b[0m\n\u001b[1;32m     10\u001b[0m \u001b[0mprint\u001b[0m\u001b[0;34m(\u001b[0m\u001b[0marr6\u001b[0m\u001b[0;34m.\u001b[0m\u001b[0mshape\u001b[0m\u001b[0;34m)\u001b[0m\u001b[0;34m\u001b[0m\u001b[0;34m\u001b[0m\u001b[0m\n",
            "\u001b[0;32m<__array_function__ internals>\u001b[0m in \u001b[0;36mreshape\u001b[0;34m(*args, **kwargs)\u001b[0m\n",
            "\u001b[0;32m/usr/local/lib/python3.6/dist-packages/numpy/core/fromnumeric.py\u001b[0m in \u001b[0;36mreshape\u001b[0;34m(a, newshape, order)\u001b[0m\n\u001b[1;32m    299\u001b[0m            [5, 6]])\n\u001b[1;32m    300\u001b[0m     \"\"\"\n\u001b[0;32m--> 301\u001b[0;31m     \u001b[0;32mreturn\u001b[0m \u001b[0m_wrapfunc\u001b[0m\u001b[0;34m(\u001b[0m\u001b[0ma\u001b[0m\u001b[0;34m,\u001b[0m \u001b[0;34m'reshape'\u001b[0m\u001b[0;34m,\u001b[0m \u001b[0mnewshape\u001b[0m\u001b[0;34m,\u001b[0m \u001b[0morder\u001b[0m\u001b[0;34m=\u001b[0m\u001b[0morder\u001b[0m\u001b[0;34m)\u001b[0m\u001b[0;34m\u001b[0m\u001b[0;34m\u001b[0m\u001b[0m\n\u001b[0m\u001b[1;32m    302\u001b[0m \u001b[0;34m\u001b[0m\u001b[0m\n\u001b[1;32m    303\u001b[0m \u001b[0;34m\u001b[0m\u001b[0m\n",
            "\u001b[0;32m/usr/local/lib/python3.6/dist-packages/numpy/core/fromnumeric.py\u001b[0m in \u001b[0;36m_wrapfunc\u001b[0;34m(obj, method, *args, **kwds)\u001b[0m\n\u001b[1;32m     59\u001b[0m \u001b[0;34m\u001b[0m\u001b[0m\n\u001b[1;32m     60\u001b[0m     \u001b[0;32mtry\u001b[0m\u001b[0;34m:\u001b[0m\u001b[0;34m\u001b[0m\u001b[0;34m\u001b[0m\u001b[0m\n\u001b[0;32m---> 61\u001b[0;31m         \u001b[0;32mreturn\u001b[0m \u001b[0mbound\u001b[0m\u001b[0;34m(\u001b[0m\u001b[0;34m*\u001b[0m\u001b[0margs\u001b[0m\u001b[0;34m,\u001b[0m \u001b[0;34m**\u001b[0m\u001b[0mkwds\u001b[0m\u001b[0;34m)\u001b[0m\u001b[0;34m\u001b[0m\u001b[0;34m\u001b[0m\u001b[0m\n\u001b[0m\u001b[1;32m     62\u001b[0m     \u001b[0;32mexcept\u001b[0m \u001b[0mTypeError\u001b[0m\u001b[0;34m:\u001b[0m\u001b[0;34m\u001b[0m\u001b[0;34m\u001b[0m\u001b[0m\n\u001b[1;32m     63\u001b[0m         \u001b[0;31m# A TypeError occurs if the object does have such a method in its\u001b[0m\u001b[0;34m\u001b[0m\u001b[0;34m\u001b[0m\u001b[0;34m\u001b[0m\u001b[0m\n",
            "\u001b[0;31mValueError\u001b[0m: cannot reshape array of size 18 into shape (6,4)"
          ]
        }
      ]
    },
    {
      "cell_type": "code",
      "metadata": {
        "id": "ClrcDFuhOJ6m",
        "outputId": "0837dbb2-1031-40e4-e8a0-ed6bd41569dd",
        "colab": {
          "base_uri": "https://localhost:8080/",
          "height": 86
        }
      },
      "source": [
        "\"\"\"\n",
        "We now have the error.\n",
        "it says --> cannot reshape array of size 18 into shape (6,4)\n",
        "\n",
        "In most of our coding for deep learning, we will be making use of reshape function in our programs\n",
        "because, by making use of the reshape, we will not be modifying the total number of elements when we are using the reshape function.\n",
        "\n",
        "So, this is also one of the important function we use from numpy library\n",
        "\n",
        "Now, apart from calling the reshape function like --> np.reshape, we can also call the reshape function as --> \n",
        "array_name(dot)reshape ,  and specify the required shape inside the parenetheses.\n",
        "\n",
        "To illustrate, I will write as :\n",
        "\"\"\"\n",
        "arr6 = arr4.reshape(3,6)\n",
        "print(arr6)\n",
        "print(arr6.shape)"
      ],
      "execution_count": null,
      "outputs": [
        {
          "output_type": "stream",
          "text": [
            "[[0.24235399 0.08473531 0.08835072 0.46556044 0.33182572 0.29698058]\n",
            " [0.55916307 0.58409219 0.59146794 0.15695336 0.91201059 0.32379207]\n",
            " [0.92060936 0.76012151 0.60868017 0.70821279 0.40753098 0.60688967]]\n",
            "(3, 6)\n"
          ],
          "name": "stdout"
        }
      ]
    },
    {
      "cell_type": "code",
      "metadata": {
        "id": "MWjLEXaRJu3W",
        "outputId": "98d65a1b-3f16-4077-ca60-fb504957f1ea",
        "colab": {
          "base_uri": "https://localhost:8080/",
          "height": 121
        }
      },
      "source": [
        "\"\"\"\n",
        "As we can see in the output,\n",
        "we have successfuly changed the shape of array_4 to (3,6), and it behaved just like np.reshape() function\n",
        "\n",
        "\n",
        "Now, One of the common way that you would see me using the reshape function is, with the combination with \n",
        "'arange' function like this.\n",
        "To illustrate i will write as\n",
        "\"\"\"\n",
        "arr6 = np.arange(0,100,5).reshape(5,4)\n",
        "print(arr6)\n",
        "print(arr6.shape)\n",
        "\"\"\"\n",
        "So , This time,\n",
        "I have generated the array 6 using the 'arange' function with start value as 0, end value as 100,\n",
        "and step size as 5\n",
        "\n",
        "So, this would have 20 elements in the array.\n",
        "I have then called the reshape function on it, to change the shape of the array to --> (5,4)\n",
        "Lets execute it, and verify the result\n",
        "\"\"\";"
      ],
      "execution_count": null,
      "outputs": [
        {
          "output_type": "stream",
          "text": [
            "[[ 0  5 10 15]\n",
            " [20 25 30 35]\n",
            " [40 45 50 55]\n",
            " [60 65 70 75]\n",
            " [80 85 90 95]]\n",
            "(5, 4)\n"
          ],
          "name": "stdout"
        }
      ]
    },
    {
      "cell_type": "code",
      "metadata": {
        "id": "3gLRieSYLIXG"
      },
      "source": [
        "\"\"\"\n",
        "okay, you can see the same in the output.\n",
        "\n",
        "I hope you now have an idea as how to make use of reshape & resize function on Numpy arrays.\n",
        "Lets continue our learning in next video\n",
        "\"\"\""
      ],
      "execution_count": null,
      "outputs": []
    },
    {
      "cell_type": "markdown",
      "metadata": {
        "id": "EdPhVH8VPMUP"
      },
      "source": [
        "# DLAI S07A04 - Slicing"
      ]
    },
    {
      "cell_type": "code",
      "metadata": {
        "id": "i4UkNj_1PLvb",
        "outputId": "8504bb27-d6f3-41ab-f256-4f3a21af555a",
        "colab": {
          "base_uri": "https://localhost:8080/",
          "height": 34
        }
      },
      "source": [
        "\"\"\"\n",
        "In this video we are going to understand how to perform slicing on numpy arrays\n",
        "\n",
        "We are already aware of the concept of slicing\n",
        "\n",
        "Slicing is nothing but --> returning a required sample from the given list or sequence\n",
        "\n",
        "In case of Numpy arrays as well, \n",
        "We will just pass the index we are interested in returning, inside the square brackets.\n",
        "\n",
        "So , lets say, we have an array like this\n",
        "\"\"\"\n",
        "arr1 = np.arange(0,50,5)\n",
        "print(arr1)"
      ],
      "execution_count": null,
      "outputs": [
        {
          "output_type": "stream",
          "text": [
            "[ 0  5 10 15 20 25 30 35 40 45]\n"
          ],
          "name": "stdout"
        }
      ]
    },
    {
      "cell_type": "code",
      "metadata": {
        "id": "BYx8WpmWQCCQ",
        "outputId": "e5c15a8f-9a81-42d1-e4e0-c8ca3177d5a3",
        "colab": {
          "base_uri": "https://localhost:8080/",
          "height": 34
        }
      },
      "source": [
        "\"\"\"\n",
        "The array has elements between 0 and 50 with step size as 5.\n",
        "Now, lets say we are interested in returning the element at 4th index in array_1\n",
        "then, we will simply call as :\n",
        "\"\"\"\n",
        "print(arr1[4])"
      ],
      "execution_count": null,
      "outputs": [
        {
          "output_type": "stream",
          "text": [
            "20\n"
          ],
          "name": "stdout"
        }
      ]
    },
    {
      "cell_type": "code",
      "metadata": {
        "id": "otlgtKYyQOu_",
        "outputId": "5235c158-84d7-4692-c80f-d086765db3c6",
        "colab": {
          "base_uri": "https://localhost:8080/",
          "height": 34
        }
      },
      "source": [
        "\"\"\"\n",
        "So, We now have the output as 20.\n",
        "\n",
        "As you might have observed already, \n",
        "4th index refer to value '20' in the array_1\n",
        "\n",
        "this is because, the indexing starts from zero for numpy arrays as well.\n",
        "\n",
        "The concept of slicing which we had learnt for python lists will work for numpy arrays as well\n",
        "\n",
        "So,\n",
        "If I call as :\n",
        "\"\"\"\n",
        "print(arr1[2:8])\n",
        "#and execute the code"
      ],
      "execution_count": null,
      "outputs": [
        {
          "output_type": "stream",
          "text": [
            "[10 15 20 25 30 35]\n"
          ],
          "name": "stdout"
        }
      ]
    },
    {
      "cell_type": "code",
      "metadata": {
        "id": "DBGFERopQt-P",
        "outputId": "ed357dad-5928-4933-fc4e-ef570b8af4f1",
        "colab": {
          "base_uri": "https://localhost:8080/",
          "height": 34
        }
      },
      "source": [
        "\"\"\"\n",
        "We have returned the array with elements between 2nd and 8th index of the array. And, \n",
        "just like python lists, in case of numpy arrays as well, the 2nd index is inclusive and 8th index is exclusive\n",
        "\n",
        "In numpy arrays, We can also specify the step size increment as per our requirement.\n",
        "So, If I call as -->\n",
        "\"\"\"\n",
        "print(arr1[1:9:2])\n",
        "\n"
      ],
      "execution_count": null,
      "outputs": [
        {
          "output_type": "stream",
          "text": [
            "[ 5 15 25 35]\n"
          ],
          "name": "stdout"
        }
      ]
    },
    {
      "cell_type": "code",
      "metadata": {
        "id": "XGdyul2bRLSP",
        "outputId": "de6d0189-cca6-4d85-c208-70bd53de4db7",
        "colab": {
          "base_uri": "https://localhost:8080/",
          "height": 86
        }
      },
      "source": [
        "\"\"\"\n",
        "This has returned the elements between 1st and 9th index with step size as 2.\n",
        "So, the returned array has the elements as --> 5,15,25 & 35\n",
        "\n",
        "With this we can say that, \n",
        "the concept of slicing which we had learnt for python lists will work exactly same for the Single dimensional numpy arrays.\n",
        "\n",
        "Now, what about multi dimensional array ?\n",
        "Well, in case of multi-dimensional array, the concept of index works the same,\n",
        "But we just have to specify a slice for each dimension of the array.\n",
        "\n",
        "lets say, we have an array like this\n",
        "\"\"\"\n",
        "arr2 = np.arange(0,200,10).reshape(4,5)\n",
        "print(arr2)"
      ],
      "execution_count": null,
      "outputs": [
        {
          "output_type": "stream",
          "text": [
            "[[  0  10  20  30  40]\n",
            " [ 50  60  70  80  90]\n",
            " [100 110 120 130 140]\n",
            " [150 160 170 180 190]]\n"
          ],
          "name": "stdout"
        }
      ]
    },
    {
      "cell_type": "code",
      "metadata": {
        "id": "Fwd0b0MzRt5f",
        "outputId": "6a2ebd63-e95d-4ac1-bb39-bcf3e2551795",
        "colab": {
          "base_uri": "https://localhost:8080/",
          "height": 34
        }
      },
      "source": [
        "\"\"\"\n",
        "This array_2 is of shape --> (4,5)\n",
        "\n",
        "now, lets apply the concept of slicing for this multi dimensional array.\n",
        "\n",
        "This time, I will call as :\n",
        "\"\"\"\n",
        "print(arr2[2])"
      ],
      "execution_count": null,
      "outputs": [
        {
          "output_type": "stream",
          "text": [
            "[100 110 120 130 140]\n"
          ],
          "name": "stdout"
        }
      ]
    },
    {
      "cell_type": "code",
      "metadata": {
        "id": "r0OlBGnxSLKA",
        "outputId": "b4efbd92-de33-4ff4-ed67-d2ca8f6a1141",
        "colab": {
          "base_uri": "https://localhost:8080/",
          "height": 34
        }
      },
      "source": [
        "\"\"\"\n",
        "So, We have the output which prints the entire row which has the index of 2.\n",
        "hence we have the elements of the returned array as --> [100 110 120 130 140]\n",
        "\n",
        "Now, If we want to return a single value instead of  entire row,\n",
        "Then, We must specify a slice for each dimension of the array.\n",
        "\n",
        "To understand this, Lets say,\n",
        "We want to return the value 60 from the array_2\n",
        "\n",
        "Then, In that case,\n",
        "We will write it like this.\n",
        "\n",
        "\"\"\"\n",
        "print(arr2[1,1])\n",
        "#We are writing like this, because, the value 60 is at index 1 of row index, and at index 1, on the column index.\n",
        "#Okay. I will now execute this"
      ],
      "execution_count": null,
      "outputs": [
        {
          "output_type": "execute_result",
          "data": {
            "text/plain": [
              "60"
            ]
          },
          "metadata": {
            "tags": []
          },
          "execution_count": 33
        }
      ]
    },
    {
      "cell_type": "code",
      "metadata": {
        "id": "cRyjBKAbTEbg",
        "outputId": "f8c7ad77-68fb-4e66-e362-dd3d83d3a193",
        "colab": {
          "base_uri": "https://localhost:8080/",
          "height": 52
        }
      },
      "source": [
        "\"\"\"\n",
        "So, this has returned the value as 60\n",
        "\n",
        "We can also make use of colon notation to specify the range in each of dimension of the array.\n",
        "To illustrate i will write the code like this:\n",
        "\"\"\"\n",
        "arr2[0:4:2,1:4:2]\n",
        "#and then execute the code"
      ],
      "execution_count": null,
      "outputs": [
        {
          "output_type": "execute_result",
          "data": {
            "text/plain": [
              "array([[ 10,  30],\n",
              "       [110, 130]])"
            ]
          },
          "metadata": {
            "tags": []
          },
          "execution_count": 3
        }
      ]
    },
    {
      "cell_type": "code",
      "metadata": {
        "id": "DFbJ8tTDhCS-",
        "outputId": "3397bc29-2476-417a-bcb4-206850dd6182",
        "colab": {
          "base_uri": "https://localhost:8080/",
          "height": 86
        }
      },
      "source": [
        "\"\"\"\n",
        "We have the output with elements as --> 10,110,30 & 130\n",
        "let me display the array_2 again, so that you can clear understanding as why we have got this output.\n",
        "\"\"\"\n",
        "print(arr2)"
      ],
      "execution_count": null,
      "outputs": [
        {
          "output_type": "stream",
          "text": [
            "[[  0  10  20  30  40]\n",
            " [ 50  60  70  80  90]\n",
            " [100 110 120 130 140]\n",
            " [150 160 170 180 190]]\n"
          ],
          "name": "stdout"
        }
      ]
    },
    {
      "cell_type": "code",
      "metadata": {
        "id": "FL0HDODRhVUq",
        "outputId": "e20e2980-dc9a-4d9f-b159-510c59546fc6",
        "colab": {
          "base_uri": "https://localhost:8080/",
          "height": 52
        }
      },
      "source": [
        "\"\"\"\n",
        "Now, lets analyze the slicing logic we have written,\n",
        "For the row index we have written as --> 0:4:2\n",
        "That means, start with 'zero' index, till '4th' index row , with step size as 2\n",
        "\n",
        "So, this would result in selection of 'zeroth' row, and 2nd row like this. \n",
        "This time I will enter only the row index part so\n",
        "that you can understand how it selected particular rows.\n",
        "So,\n",
        "\"\"\"\n",
        "arr2[0:4:2,:]"
      ],
      "execution_count": null,
      "outputs": [
        {
          "output_type": "execute_result",
          "data": {
            "text/plain": [
              "array([[  0,  10,  20,  30,  40],\n",
              "       [100, 110, 120, 130, 140]])"
            ]
          },
          "metadata": {
            "tags": []
          },
          "execution_count": 5
        }
      ]
    },
    {
      "cell_type": "code",
      "metadata": {
        "id": "6w_bmn1_h28c",
        "outputId": "d37a32ba-a206-410c-c49c-12047c32137a",
        "colab": {
          "base_uri": "https://localhost:8080/",
          "height": 52
        }
      },
      "source": [
        "\"\"\"\n",
        "So, we have this array as a result of applying the first part of slicing.\n",
        "\n",
        "Now, \n",
        "Now, for the column index,\n",
        "we had written as --> 1:4:2\n",
        "That means, start with '1st' index, till '4th' index column , with step size as 2\n",
        "\n",
        "So, this would result in selection of '1st' column, and 3rd column from the above slice\n",
        "\"\"\"\n",
        "arr2[0:4:2,1:4:2]"
      ],
      "execution_count": null,
      "outputs": [
        {
          "output_type": "execute_result",
          "data": {
            "text/plain": [
              "array([[ 10,  30],\n",
              "       [110, 130]])"
            ]
          },
          "metadata": {
            "tags": []
          },
          "execution_count": 6
        }
      ]
    },
    {
      "cell_type": "code",
      "metadata": {
        "id": "Mbg5OcdQiXTP"
      },
      "source": [
        "\"\"\"\n",
        "So, we have the output with elements as --> 10,30, 110 & 130\n",
        "\n",
        "I hope you now have an idea as how slicing works in numpy array.\n",
        "\n",
        "Lets continue our learning from next video\n",
        "\"\"\""
      ],
      "execution_count": null,
      "outputs": []
    },
    {
      "cell_type": "markdown",
      "metadata": {
        "id": "KdnTxtfBiyJb"
      },
      "source": [
        "# DLAI S07A05 - Broadcasting"
      ]
    },
    {
      "cell_type": "code",
      "metadata": {
        "id": "mtox9Xtzi3Vp",
        "outputId": "a0336adf-c472-497c-98d8-e7efd1eeaf5f",
        "colab": {
          "base_uri": "https://localhost:8080/",
          "height": 190
        }
      },
      "source": [
        "\"\"\"\n",
        "We now know as how to create a numpy array, and return the required part of it by making use \n",
        "of the concept of slicing, and also reshaping the array as per our requirement.\n",
        "\n",
        "Now, Like I said already in the first video, one of the main reasons we use Numpy library is,\n",
        "to perform the mathematical operations efficiently on a large data. \n",
        "\n",
        "These mathematical operations are straight forward when we have two arrays of same shape, but in case of \n",
        "Machine learning & Deep learning, more often we will be required to work with different shapes of arrays.\n",
        "Like, Multiplying a Large Array with Smaller array ,\n",
        "Or adding them or subtracting them, and so on..\n",
        "\n",
        "Now to decide whether we can perform a particular mathematical operation on an array or not, we should be\n",
        "aware of the concept called - 'Broadcasting' .Lets see how broadcasting works in numpy\n",
        "\n",
        "To be able to perform the broadcasting, there are some simple rules which we need to follow.\n",
        "\n",
        "1 simple rule is, \n",
        "Whenever we are performing any arithmetic operation between two arrays,\n",
        "then, to broadcast successfully, We have to make sure that the shapes of the two arrays should match.\n",
        "\n",
        "To illustrate this,\n",
        "lets say we have two arrays like this.\n",
        "\"\"\"\n",
        "import numpy as np\n",
        "x = np.random.random((5,3))\n",
        "y = np.arange(0,15).reshape(5,3)\n",
        "print(x)\n",
        "print(y)"
      ],
      "execution_count": null,
      "outputs": [
        {
          "output_type": "stream",
          "text": [
            "[[0.09216799 0.67835743 0.58295118]\n",
            " [0.53387582 0.09757996 0.50755733]\n",
            " [0.52247772 0.27549629 0.94894125]\n",
            " [0.51321901 0.78980027 0.71380152]\n",
            " [0.37120947 0.8010632  0.15755128]]\n",
            "[[ 0  1  2]\n",
            " [ 3  4  5]\n",
            " [ 6  7  8]\n",
            " [ 9 10 11]\n",
            " [12 13 14]]\n"
          ],
          "name": "stdout"
        }
      ]
    },
    {
      "cell_type": "code",
      "metadata": {
        "id": "zbknpISMdatR",
        "outputId": "bebadba0-01ac-4fed-eda2-6db5f67dfcf9",
        "colab": {
          "base_uri": "https://localhost:8080/",
          "height": 104
        }
      },
      "source": [
        "\"\"\"\n",
        "So,\n",
        "We have now created two arrays 'x' and 'y' with shape as (5,3) \n",
        "Since the two shapes match, we can perform mathematical operation between them.\n",
        "To illustrate , i will perform the mathematical operation as :\n",
        "\"\"\"\n",
        "result = x + y\n",
        "print(result)\n",
        "#and then execute the code"
      ],
      "execution_count": null,
      "outputs": [
        {
          "output_type": "stream",
          "text": [
            "[[ 0.91227149  1.16725869  2.20893307]\n",
            " [ 3.54477935  4.76945623  5.52197436]\n",
            " [ 6.938418    7.25541506  8.36462129]\n",
            " [ 9.86395252 10.31309058 11.47851614]\n",
            " [12.89318058 13.13281322 14.72674874]]\n"
          ],
          "name": "stdout"
        }
      ]
    },
    {
      "cell_type": "code",
      "metadata": {
        "id": "ud5GEwvKeOiL",
        "outputId": "b4551ccb-aedd-4df3-fdf1-6f7942e8db5d",
        "colab": {
          "base_uri": "https://localhost:8080/",
          "height": 52
        }
      },
      "source": [
        "\"\"\"\n",
        "Okay, we have the output as an array like this\n",
        "The resulting array is the addition of individual elements of the arrays.\n",
        "\n",
        "Now what happens when we want to perform mathematical operations between two arrays which are of different shapes.\n",
        "How can we check whether it is possible to broadcast or not ? and, if the broadcasting is possible, what will\n",
        "be the resulting shape of the array.\n",
        "\n",
        "To analyze whether the broadcasting is possible or not, \n",
        "We apply these 3 rules of broadcasting.\n",
        "\n",
        "Rule 1, it says: If the two arrays differ in their number of dimensions, then the shape of the one with fewer \n",
        "dimensions is padded with ones on its leading left side.\n",
        "Rule 2 says: If the shape of the two arrays does not match in any dimension, the array with shape equal to 1\n",
        "       in that dimension is stretched to match the other shape.\n",
        "Finally, Rule 3: If in any dimension, the sizes disagree and neither is equal to 1, an error is raised. \n",
        "That means, Broadcasting is not possible\n",
        "\n",
        "\n",
        "Lets start working out on these rules to build our foundation on Array broadcasting\n",
        "\n",
        "Lets consider this simple example,\n",
        "\"\"\"\n",
        "x = np.random.random((4,3)) \n",
        "y = np.arange(3)\n",
        "print(x.shape)\n",
        "print(y.shape)"
      ],
      "execution_count": null,
      "outputs": [
        {
          "output_type": "stream",
          "text": [
            "(4, 3)\n",
            "(3,)\n"
          ],
          "name": "stdout"
        }
      ]
    },
    {
      "cell_type": "code",
      "metadata": {
        "id": "Kt8T3xx4h0gp",
        "outputId": "a227bc1a-01a0-4075-be68-4e42c90dc72b",
        "colab": {
          "base_uri": "https://localhost:8080/",
          "height": 34
        }
      },
      "source": [
        "\"\"\"\n",
        "So, We have shape of  array 'x' as --> 4,3\n",
        "and array 'y' is of shape --> (3, blank)\n",
        "\n",
        "Now, we have to check whether broadcasting of arrays is possible or not, so that we can perform\n",
        "any mathematical operation on it.\n",
        "\n",
        "So, Lets analyze it based on the rules of broadcasting.\n",
        "\n",
        "So, the first rule says if the two arrays differ in their number of dimensions, \n",
        "then the shape of the one with fewer dimensions is padded with ones on its leading (left) side.\n",
        "\n",
        "In our case,\n",
        "The Dimensions of X and Y do not match.\n",
        "because, as we can clearly see, Array 'x' is a 2 dimensional array, that means it has both rows & columns,\n",
        "and the array 'y' is of single dimension as it has only one index representing its shape.\n",
        "\n",
        "So we can say that, the array 'y' has fewer dimensions as compared to that of 'x'\n",
        "\n",
        "So,\n",
        "As per 1st rule, we pad the array Y on the left side,\n",
        "so that the two dimensions would match.\n",
        "\n",
        "Now, After padding on the left side of array 'y',\n",
        "the shape of array 'Y' will become,\n",
        "(1,3)\n",
        "\n",
        "Okay,\n",
        "After the application of 1st rule of broadcasting, \n",
        "The shapes of X and Y are : (4,3) and (1,3) respectively\n",
        "\n",
        "Now, the first rule follows,\n",
        "that means, both the dimensions of x & y matches, that is, both are having 2 dimensions.\n",
        "\n",
        "So, Lets apply the rule 2.\n",
        "Rule 2 says, If the shape of the two arrays does not match in any dimension, the array with shape equal \n",
        "to 1 in that dimension is stretched to match the other shape.\n",
        "\n",
        "In our case,\n",
        "we can observe that, shapes of x and y do not match.\n",
        "because the shapes are --> (4,3) & (1,3)\n",
        "\n",
        "We can also observe that, The shape of y on one of the particular dimension is equal to 1 .\n",
        "\n",
        "So as per the second rule, we stretch that particular dimension, to match as that of dimension x.\n",
        "So, after stretching, the shape of array --> 'y' would become (4,3)\n",
        "\n",
        "Since both the Arrays matches in size, \n",
        "We can say that,\n",
        "The arrays 'X' & 'Y' are compatible to perform the arithmetic operation, and the resultant array would be of shape (4,3)\n",
        "\n",
        "To test the same,\n",
        "Lets perform multiplication, and verify the shape of the resultant array\n",
        "\n",
        "So,\n",
        "I will write as :\n",
        "\"\"\"\n",
        "result = x * y\n",
        "print(result.shape)"
      ],
      "execution_count": null,
      "outputs": [
        {
          "output_type": "stream",
          "text": [
            "(4, 3)\n"
          ],
          "name": "stdout"
        }
      ]
    },
    {
      "cell_type": "code",
      "metadata": {
        "id": "6D4ym-Yra1pm",
        "outputId": "c784e84a-9f6b-466d-a077-b8b0e0ebf9c5",
        "colab": {
          "base_uri": "https://localhost:8080/",
          "height": 34
        }
      },
      "source": [
        "\"\"\"\n",
        "As we can see in the output we have the resultant array of shape --> (4,3)\n",
        "\n",
        "Lets continue our working on this to make our understanding stronger.\n",
        "\n",
        "Lets say, we have the array x with shape as (3,7)\n",
        "And we have the shape of array 'y' as (7,blank)\n",
        "\n",
        "Now, Lets apply the rules and check the whether broadcasting is possible or not\n",
        "\n",
        "Lets start with Rule 1,\n",
        "So, As per the rule 1, if  the two arrays differ in their number of dimensions,\n",
        " the shape of the one with fewer dimensions is padded with ones on its leading left side.\n",
        "\n",
        " If we look at our example, we have to pad the array 'y' on its left side\n",
        " to match the dimension as that of 'x'\n",
        "\n",
        "So,\n",
        "This would result in shapes of array x & y as -->  (3,7) and (1,7)\n",
        "\n",
        "Now the dimensions of X and Y matches.\n",
        "\n",
        "Lets apply the rule 2,\n",
        "The Rule 2 says - If the shape of the two arrays does not match in any dimension, \n",
        "the array with shape equal to 1 in that dimension is stretched to match the other shape.\n",
        "\n",
        "So, we stretch the value equal to 1 in array 'y', to match the shape of the other array.\n",
        "This time, We stretch the 1 to be equal to 3\n",
        "\n",
        "Okay. We can now see that, both x and y are of shape 3,7 \n",
        "Since both the shapes are equal.\n",
        "We can say that,\n",
        "Broadcasting is possible\n",
        "\n",
        "Lets verify the same by coding in Python\n",
        "(dont read the code)\n",
        "\"\"\"\n",
        "x = np.arange(0,21).reshape(3,7)\n",
        "y = np.random.random((7))\n",
        "result = x/y \n",
        "print(result.shape)"
      ],
      "execution_count": null,
      "outputs": [
        {
          "output_type": "stream",
          "text": [
            "(3, 7)\n"
          ],
          "name": "stdout"
        }
      ]
    },
    {
      "cell_type": "code",
      "metadata": {
        "id": "AJ0k4Pv6txnP",
        "outputId": "9cd91c08-0c8d-4bd4-f2dc-55b2e180e810",
        "colab": {
          "base_uri": "https://localhost:8080/",
          "height": 235
        }
      },
      "source": [
        "\"\"\"\n",
        "Yes. \n",
        "As we can verify from the result,\n",
        "We can say as, array broadcasting is possible between x and y\n",
        "\n",
        "I hope you now have an idea as how to apply the rules of broadcasting.\n",
        "\n",
        "Now, Lets consider a negetive case,\n",
        "\n",
        "lets say --> array X is of shape 5,3 and y is of shape (4, blank)\n",
        "\n",
        "Now,\n",
        "After applying the 1st rule,\n",
        "That is,\n",
        "Padding on the left when the dimensions do not match.\n",
        "\n",
        "We get x and y shapes as → (5,3) , and (1,4)\n",
        "\n",
        "okay, After applying the rule 1, the dimensions of x and y matches\n",
        "\n",
        "Now, As per the second rule,\n",
        "We stretch the 1 in shape of Y to match the other shape of array.\n",
        "\n",
        "So, after applying the rule 2,\n",
        " We can see that, the resulting shapes of x and y are --> (5,3) and (5,4) respectively\n",
        "\n",
        "As we can see, the shapes 'x'  & 'y' , do not match, Hence, As per the Rule 3,  we say that broadcasting is not possible\n",
        "\n",
        "So, lets test it out by coding in python.\n",
        "(dont read the code)\n",
        "\"\"\"\n",
        "x = np.arange(0,30,2).reshape(5,3)\n",
        "y = np.arange(0,40,10)\n",
        "print(x.shape)\n",
        "print(y.shape)\n",
        "result = x * y"
      ],
      "execution_count": null,
      "outputs": [
        {
          "output_type": "stream",
          "text": [
            "(5, 3)\n",
            "(4,)\n"
          ],
          "name": "stdout"
        },
        {
          "output_type": "error",
          "ename": "ValueError",
          "evalue": "ignored",
          "traceback": [
            "\u001b[0;31m---------------------------------------------------------------------------\u001b[0m",
            "\u001b[0;31mValueError\u001b[0m                                Traceback (most recent call last)",
            "\u001b[0;32m<ipython-input-7-d16285044714>\u001b[0m in \u001b[0;36m<module>\u001b[0;34m()\u001b[0m\n\u001b[1;32m     33\u001b[0m \u001b[0mprint\u001b[0m\u001b[0;34m(\u001b[0m\u001b[0mx\u001b[0m\u001b[0;34m.\u001b[0m\u001b[0mshape\u001b[0m\u001b[0;34m)\u001b[0m\u001b[0;34m\u001b[0m\u001b[0;34m\u001b[0m\u001b[0m\n\u001b[1;32m     34\u001b[0m \u001b[0mprint\u001b[0m\u001b[0;34m(\u001b[0m\u001b[0my\u001b[0m\u001b[0;34m.\u001b[0m\u001b[0mshape\u001b[0m\u001b[0;34m)\u001b[0m\u001b[0;34m\u001b[0m\u001b[0;34m\u001b[0m\u001b[0m\n\u001b[0;32m---> 35\u001b[0;31m \u001b[0mresult\u001b[0m \u001b[0;34m=\u001b[0m \u001b[0mx\u001b[0m \u001b[0;34m*\u001b[0m \u001b[0my\u001b[0m\u001b[0;34m\u001b[0m\u001b[0;34m\u001b[0m\u001b[0m\n\u001b[0m",
            "\u001b[0;31mValueError\u001b[0m: operands could not be broadcast together with shapes (5,3) (4,) "
          ]
        }
      ]
    },
    {
      "cell_type": "code",
      "metadata": {
        "id": "wxapyKaovUDM",
        "outputId": "3b4a1086-ffe6-4ddd-dd1c-1813650f1656",
        "colab": {
          "base_uri": "https://localhost:8080/",
          "height": 34
        }
      },
      "source": [
        "\"\"\"\n",
        "Okay, I have created two arrays x and y, with shapes as --> (5,3) & (4,blank)\n",
        "I have now tried to perform a mathematical operation on it.\n",
        "\n",
        "now, when I execute the code, we have the result that says :\n",
        "\"operands could not be broadcast together with shapes (5,3) (4, blank) \"\n",
        "\n",
        "This reinforces our understanding as how broadcasting works with numpy arrays.\n",
        "\n",
        "The concept of broadcasting not only works on 2 dimensional arrays, but it can be\n",
        "applied to any dimensional array operation\n",
        "\n",
        "This time, Lets consider this example.\n",
        "\n",
        "lets say, we have\n",
        "X is of shape: (4,5) , and y is of shape of (7,4,1)\n",
        "\n",
        "Now we have to analyze whether the broadcasting is possible or not\n",
        "\n",
        "One clear observation we can make is that,\n",
        "\n",
        "array X is 2 dimensional , and array 'Y' is 3 dimensional.\n",
        "\n",
        "Since the dimensions of x & y arrays do not match,\n",
        "As per the rule 1,\n",
        "We pad with ones on the left side of the array which has fewer dimensions.\n",
        "\n",
        "So, After applying the rule 1,\n",
        "We have shapes of X & Y as (1,4,5) and (7,4,1) respectively\n",
        "\n",
        "Now the dimensions of both the arrays match,\n",
        "Lets apply the rule 2.\n",
        "\n",
        "Now, As per Rule 2,\n",
        "We stretch the 1 in the array to match the shape other array.\n",
        "\n",
        "So, if we apply the rule 2 on the arrays --> x and y,\n",
        "We will stretch the 1 in x to the value 7, so that it matches the shape of array 'Y' in that dimension.\n",
        "\n",
        "Similarly,\n",
        "We stretch 1 in Y to the value 5, so that it matches the shape of array 'X' in that dimension\n",
        "\n",
        "So, After the application of rule 2,\n",
        "Both X and Y will be of shapes,\n",
        "(7,4,5) \n",
        "\n",
        "Since the shapes are same, we can say that --> Broadcasting is possible\n",
        "\n",
        "Lets code it in python to verify this.\n",
        "\n",
        "(pause 2 seconds)\n",
        "okay, I have written the code like this\n",
        "(dont read the code)\n",
        "\"\"\"\n",
        "x = np.random.random((4,5))\n",
        "y = np.ones((7,4,1))\n",
        "result = x + y\n",
        "print(result.shape)\n"
      ],
      "execution_count": null,
      "outputs": [
        {
          "output_type": "stream",
          "text": [
            "(7, 4, 5)\n"
          ],
          "name": "stdout"
        }
      ]
    },
    {
      "cell_type": "code",
      "metadata": {
        "id": "1cuXd93dx55f"
      },
      "source": [
        "\"\"\"\n",
        "Okay,\n",
        "we have the resulting array of shape --> (7,4,5)\n",
        "this is the exact shape we have got when we applied the rules of broadcasting manually.\n",
        "\n",
        "I hope you are now clear as how Broadcasting works in Numpy python\n",
        "\n",
        "In the next video, we are going to understand about different mathematical operations we can perform on numpy arrays.\n",
        "\"\"\"A06"
      ],
      "execution_count": null,
      "outputs": []
    },
    {
      "cell_type": "markdown",
      "metadata": {
        "id": "JuJzJ-pyydgD"
      },
      "source": [
        "# DLAI S07A06 - Mathematical operations & functions in Numpy arrays"
      ]
    },
    {
      "cell_type": "code",
      "metadata": {
        "id": "5qJgUyx_yiU2",
        "outputId": "43ab5303-8a67-4cf8-f49e-8360ebeb634f",
        "colab": {
          "base_uri": "https://localhost:8080/",
          "height": 104
        }
      },
      "source": [
        "\"\"\"\n",
        "In this video,\n",
        "We are going to understand what are the different mathematical operation we can perform on Numpy arrays\n",
        "To illustrate, I will create two arrays, x & y like this\n",
        "\"\"\"\n",
        "x = np.arange(1,51,5).reshape(2,5)\n",
        "y = np.arange(1,6)\n",
        "print(x)\n",
        "print(y)\n",
        "print(x.shape)\n",
        "print(y.shape)\n",
        "\n",
        "#Okay, I will now execute the code"
      ],
      "execution_count": null,
      "outputs": [
        {
          "output_type": "stream",
          "text": [
            "[[ 1  6 11 16 21]\n",
            " [26 31 36 41 46]]\n",
            "[1 2 3 4 5]\n",
            "(2, 5)\n",
            "(5,)\n"
          ],
          "name": "stdout"
        }
      ]
    },
    {
      "cell_type": "code",
      "metadata": {
        "id": "zQTtS5-CzEr0",
        "outputId": "6284db25-fce8-46f7-dd7e-d20093993b8e",
        "colab": {
          "base_uri": "https://localhost:8080/",
          "height": 52
        }
      },
      "source": [
        "\"\"\"\n",
        "So, We have X and Y arrays like this.\n",
        "X is of shape --> (2,5)\n",
        "y is of shape (5,blank)\n",
        "\n",
        "As per the rules of broadcasting which we had learnt in previous section,\n",
        "the shapes of x and y are compatible for mathematical operation.\n",
        "okay, lets se what are the different mathematical operation we can perform on it.\n",
        "\n",
        "To do any mathematical operation, We can simply make use of the respective mathematical operator on it.\n",
        "\n",
        "To illustrate, I will perform addition like this\n",
        "\"\"\"\n",
        "x + y"
      ],
      "execution_count": null,
      "outputs": [
        {
          "output_type": "execute_result",
          "data": {
            "text/plain": [
              "array([[ 2,  8, 14, 20, 26],\n",
              "       [27, 33, 39, 45, 51]])"
            ]
          },
          "metadata": {
            "tags": []
          },
          "execution_count": 11
        }
      ]
    },
    {
      "cell_type": "code",
      "metadata": {
        "id": "6NOuTdMnz_7v",
        "outputId": "200f6bdf-1461-4e18-d6f8-34d14790ad5a",
        "colab": {
          "base_uri": "https://localhost:8080/",
          "height": 52
        }
      },
      "source": [
        "\"\"\"\n",
        "So, we have the resulting array of x+y, \n",
        "In the same way, Subtraction\n",
        "\"\"\"\n",
        "x - y"
      ],
      "execution_count": null,
      "outputs": [
        {
          "output_type": "execute_result",
          "data": {
            "text/plain": [
              "array([[ 0,  4,  8, 12, 16],\n",
              "       [25, 29, 33, 37, 41]])"
            ]
          },
          "metadata": {
            "tags": []
          },
          "execution_count": 12
        }
      ]
    },
    {
      "cell_type": "code",
      "metadata": {
        "id": "vO0surn90CWa",
        "outputId": "44bbe53d-acc5-463d-dc1a-d44f91169694",
        "colab": {
          "base_uri": "https://localhost:8080/",
          "height": 52
        }
      },
      "source": [
        "#multiplication\n",
        "x*y"
      ],
      "execution_count": null,
      "outputs": [
        {
          "output_type": "execute_result",
          "data": {
            "text/plain": [
              "array([[  1,  12,  33,  64, 105],\n",
              "       [ 26,  62, 108, 164, 230]])"
            ]
          },
          "metadata": {
            "tags": []
          },
          "execution_count": 13
        }
      ]
    },
    {
      "cell_type": "code",
      "metadata": {
        "id": "UST_ln-M0DqC",
        "outputId": "8cbe2155-2aca-4436-b877-220118649695",
        "colab": {
          "base_uri": "https://localhost:8080/",
          "height": 52
        }
      },
      "source": [
        "#division\n",
        "x/y"
      ],
      "execution_count": null,
      "outputs": [
        {
          "output_type": "execute_result",
          "data": {
            "text/plain": [
              "array([[ 1.        ,  3.        ,  3.66666667,  4.        ,  4.2       ],\n",
              "       [26.        , 15.5       , 12.        , 10.25      ,  9.2       ]])"
            ]
          },
          "metadata": {
            "tags": []
          },
          "execution_count": 14
        }
      ]
    },
    {
      "cell_type": "code",
      "metadata": {
        "id": "vEiY-nxL0FBB",
        "outputId": "6016b6c7-0361-4a22-ebdc-84857b10e4aa",
        "colab": {
          "base_uri": "https://localhost:8080/",
          "height": 52
        }
      },
      "source": [
        "#exponentiation\n",
        "x^y"
      ],
      "execution_count": null,
      "outputs": [
        {
          "output_type": "execute_result",
          "data": {
            "text/plain": [
              "array([[ 0,  4,  8, 20, 16],\n",
              "       [27, 29, 39, 45, 43]])"
            ]
          },
          "metadata": {
            "tags": []
          },
          "execution_count": 15
        }
      ]
    },
    {
      "cell_type": "code",
      "metadata": {
        "id": "KYcvyPXa0Ho7",
        "outputId": "b4f33bdc-116f-426f-eeab-5d8d3841348d",
        "colab": {
          "base_uri": "https://localhost:8080/",
          "height": 52
        }
      },
      "source": [
        "#Remainder\n",
        "x%y"
      ],
      "execution_count": null,
      "outputs": [
        {
          "output_type": "execute_result",
          "data": {
            "text/plain": [
              "array([[0, 0, 2, 0, 1],\n",
              "       [0, 1, 0, 1, 1]])"
            ]
          },
          "metadata": {
            "tags": []
          },
          "execution_count": 16
        }
      ]
    },
    {
      "cell_type": "code",
      "metadata": {
        "id": "OJkhS40d0KRZ",
        "outputId": "e594e012-c1cf-4bfc-a42d-85566c802f95",
        "colab": {
          "base_uri": "https://localhost:8080/",
          "height": 52
        }
      },
      "source": [
        "\"\"\"\n",
        "As you have observed, it is very easy to make use of numpy array to perform a mathematical operation,\n",
        "\n",
        "Now, apart from making use of mathematical operators, numpy has provided many in-built functions\n",
        "to perform the same operation on arrays.\n",
        "We have np.add() function to perform additon.\n",
        "To make use of the function, we simply pass the arrays inside the parentheses like this\n",
        "\"\"\"\n",
        "np.add(x,y)"
      ],
      "execution_count": null,
      "outputs": [
        {
          "output_type": "execute_result",
          "data": {
            "text/plain": [
              "array([[ 2,  8, 14, 20, 26],\n",
              "       [27, 33, 39, 45, 51]])"
            ]
          },
          "metadata": {
            "tags": []
          },
          "execution_count": 20
        }
      ]
    },
    {
      "cell_type": "code",
      "metadata": {
        "id": "2M2r6DnO0ui4",
        "outputId": "2c15ea5c-b696-4ec9-fdf4-021899ed3d8a",
        "colab": {
          "base_uri": "https://localhost:8080/",
          "height": 52
        }
      },
      "source": [
        "#So this has performed the addition of arrays,x & y\n",
        "##Similary we have np.subtract() function to perform subtraction\n",
        "np.subtract(x,y)"
      ],
      "execution_count": null,
      "outputs": [
        {
          "output_type": "execute_result",
          "data": {
            "text/plain": [
              "array([[ 0,  4,  8, 12, 16],\n",
              "       [25, 29, 33, 37, 41]])"
            ]
          },
          "metadata": {
            "tags": []
          },
          "execution_count": 22
        }
      ]
    },
    {
      "cell_type": "code",
      "metadata": {
        "id": "BWkYGVgk0xdD",
        "outputId": "ee38f426-de0d-405b-9e10-a069a663839f",
        "colab": {
          "base_uri": "https://localhost:8080/",
          "height": 52
        }
      },
      "source": [
        "#then, np.multiply for multiplication (dont read the code)\n",
        "np.multiply(x,y)"
      ],
      "execution_count": null,
      "outputs": [
        {
          "output_type": "execute_result",
          "data": {
            "text/plain": [
              "array([[  1,  12,  33,  64, 105],\n",
              "       [ 26,  62, 108, 164, 230]])"
            ]
          },
          "metadata": {
            "tags": []
          },
          "execution_count": 23
        }
      ]
    },
    {
      "cell_type": "code",
      "metadata": {
        "id": "WmW255vd1HN0",
        "outputId": "d12f3d20-7ef6-4878-931f-03fa7f8671d8",
        "colab": {
          "base_uri": "https://localhost:8080/",
          "height": 52
        }
      },
      "source": [
        "#np.divide for division (dont read the code)\n",
        "np.divide(x,y)"
      ],
      "execution_count": null,
      "outputs": [
        {
          "output_type": "execute_result",
          "data": {
            "text/plain": [
              "array([[ 1.        ,  3.        ,  3.66666667,  4.        ,  4.2       ],\n",
              "       [26.        , 15.5       , 12.        , 10.25      ,  9.2       ]])"
            ]
          },
          "metadata": {
            "tags": []
          },
          "execution_count": 24
        }
      ]
    },
    {
      "cell_type": "code",
      "metadata": {
        "id": "zsr_70L11K_7",
        "outputId": "f84f946e-e7c6-4900-f0c4-1b3b2a1488f3",
        "colab": {
          "base_uri": "https://localhost:8080/",
          "height": 52
        }
      },
      "source": [
        "#np.remainder to calculate the remainder (dont read the code)\n",
        "np.remainder(x,y)"
      ],
      "execution_count": null,
      "outputs": [
        {
          "output_type": "execute_result",
          "data": {
            "text/plain": [
              "array([[0, 0, 2, 0, 1],\n",
              "       [0, 1, 0, 1, 1]])"
            ]
          },
          "metadata": {
            "tags": []
          },
          "execution_count": 25
        }
      ]
    },
    {
      "cell_type": "code",
      "metadata": {
        "id": "9Uz_GAl-1Q7j",
        "outputId": "f814a6fa-a4df-47a5-b002-684290a0fbff",
        "colab": {
          "base_uri": "https://localhost:8080/",
          "height": 52
        }
      },
      "source": [
        "\"\"\"\n",
        "So, These were the common functions we use to perform the mathematical operation between 2 arrays,\n",
        "\n",
        "The in-built functions does not end here,\n",
        "We have inbuilt functions to find the sine values of all the elements in the array.\n",
        "Like\n",
        "\"\"\"\n",
        "np.sin(x)"
      ],
      "execution_count": null,
      "outputs": [
        {
          "output_type": "execute_result",
          "data": {
            "text/plain": [
              "array([[ 0.84147098, -0.2794155 , -0.99999021, -0.28790332,  0.83665564],\n",
              "       [ 0.76255845, -0.40403765, -0.99177885, -0.15862267,  0.90178835]])"
            ]
          },
          "metadata": {
            "tags": []
          },
          "execution_count": 27
        }
      ]
    },
    {
      "cell_type": "code",
      "metadata": {
        "id": "UGQRTeY_1W0r",
        "outputId": "4a60faa8-e6fd-4f13-9979-f57f04097d70",
        "colab": {
          "base_uri": "https://localhost:8080/",
          "height": 52
        }
      },
      "source": [
        "#Similary , we have np.cos() function to find the cosines values. So,\n",
        "np.cos(x)"
      ],
      "execution_count": null,
      "outputs": [
        {
          "output_type": "execute_result",
          "data": {
            "text/plain": [
              "array([[ 0.54030231,  0.96017029,  0.0044257 , -0.95765948, -0.54772926],\n",
              "       [ 0.64691932,  0.91474236, -0.12796369, -0.98733928, -0.43217794]])"
            ]
          },
          "metadata": {
            "tags": []
          },
          "execution_count": 28
        }
      ]
    },
    {
      "cell_type": "code",
      "metadata": {
        "id": "5HfOHAjr2JzD",
        "outputId": "3e04138d-5ca3-46fd-93ed-a68f1d239dda",
        "colab": {
          "base_uri": "https://localhost:8080/",
          "height": 34
        }
      },
      "source": [
        "\"\"\"\n",
        "\n",
        "Another important function which we commonly use in our deep learning is,\n",
        "finding the dot product between 2 arrays or matrices, for that, we make use of\n",
        "np.dot() function, and inside the parentheses we will input the arrays for which we want to calculate\n",
        "the dot product.\n",
        "So,\n",
        "\"\"\"\n",
        "np.dot(x,y)"
      ],
      "execution_count": null,
      "outputs": [
        {
          "output_type": "execute_result",
          "data": {
            "text/plain": [
              "array([215, 590])"
            ]
          },
          "metadata": {
            "tags": []
          },
          "execution_count": 29
        }
      ]
    },
    {
      "cell_type": "code",
      "metadata": {
        "id": "5QwK0sed2Yxy",
        "outputId": "8964396d-e5ac-4fc9-dfd7-03eee2ee5a48",
        "colab": {
          "base_uri": "https://localhost:8080/",
          "height": 34
        }
      },
      "source": [
        "\"\"\"\n",
        "So, when we compute the dot product between two arrays, --> x & y, the resulting array have the elements as 215 & 590.\n",
        "\n",
        "So, all the functions which we have seen till now, are the functions used to perform the matheematical operations.\n",
        "\n",
        "In numpy, we also have the in-built function to perform aggregation as well.\n",
        "\n",
        "To name a few, We have np.sum() function to return the array-wise sum\n",
        "So, If I write as :\n",
        "\"\"\"\n",
        "np.sum(x)"
      ],
      "execution_count": null,
      "outputs": [
        {
          "output_type": "execute_result",
          "data": {
            "text/plain": [
              "235"
            ]
          },
          "metadata": {
            "tags": []
          },
          "execution_count": 33
        }
      ]
    },
    {
      "cell_type": "code",
      "metadata": {
        "id": "5dNF6REY2yJm",
        "outputId": "af24a653-49f4-497a-df3d-ee046bf6e772",
        "colab": {
          "base_uri": "https://localhost:8080/",
          "height": 86
        }
      },
      "source": [
        "\"\"\"\n",
        "We have the value which is equal to sum of all the elements present in the array x\n",
        "\n",
        "Now, using the np.sum() function, We can also return the sum of the elements along its\n",
        "individual axis by specifying the axis number\n",
        "\n",
        "We can specify as, Axis = 0 to return the sum along each column, and axis = 1 to return sum along each row\n",
        "\n",
        "To get the understanding of axis in numpy arrays, I will write it like this\n",
        "\"\"\"\n",
        "print(\"Array X is :\" ,x)\n",
        "print(\"Sum along axis = 0 is :\",np.sum(x, axis = 0))\n",
        "print(\"Sum along axis = 1 is :\",np.sum(x, axis = 1))"
      ],
      "execution_count": null,
      "outputs": [
        {
          "output_type": "stream",
          "text": [
            "Array X is : [[ 1  6 11 16 21]\n",
            " [26 31 36 41 46]]\n",
            "Sum along axis = 0 is : [27 37 47 57 67]\n",
            "Sum along axis = 1 is : [ 55 180]\n"
          ],
          "name": "stdout"
        }
      ]
    },
    {
      "cell_type": "code",
      "metadata": {
        "id": "thikA8Em3htN",
        "outputId": "55c7bddf-f304-48dc-8fd3-6c49307b4632",
        "colab": {
          "base_uri": "https://localhost:8080/",
          "height": 34
        }
      },
      "source": [
        "\"\"\"\n",
        "So, \n",
        "In this way, we can make use of the np.sum() function to return the sum of the elements inside it\n",
        "\n",
        "Similarly,\n",
        "we have np.min() to return the minimum value in the array\n",
        "\"\"\"\n",
        "np.min(x)"
      ],
      "execution_count": null,
      "outputs": [
        {
          "output_type": "execute_result",
          "data": {
            "text/plain": [
              "1"
            ]
          },
          "metadata": {
            "tags": []
          },
          "execution_count": 36
        }
      ]
    },
    {
      "cell_type": "code",
      "metadata": {
        "id": "v7pQsV2g4MQr",
        "outputId": "9d14cae2-e311-4125-be3f-e406c93830ce",
        "colab": {
          "base_uri": "https://localhost:8080/",
          "height": 52
        }
      },
      "source": [
        "\"\"\"\n",
        "This has returned the minimum value present in the entire array - 'x'\n",
        "\n",
        "Even np.min() function can return the values across each axis \n",
        "(dont read the code)\n",
        "\"\"\"\n",
        "print(np.min(x, axis = 0))\n",
        "print(np.min(x, axis = 1))"
      ],
      "execution_count": null,
      "outputs": [
        {
          "output_type": "stream",
          "text": [
            "[ 1  6 11 16 21]\n",
            "[ 1 26]\n"
          ],
          "name": "stdout"
        }
      ]
    },
    {
      "cell_type": "code",
      "metadata": {
        "id": "EuyqkPuj4YgL",
        "outputId": "706e9b13-43f9-49c2-e093-1b64d43689f0",
        "colab": {
          "base_uri": "https://localhost:8080/",
          "height": 34
        }
      },
      "source": [
        "\"\"\"\n",
        "So, this has returned the minimum values across each axis.\n",
        "\n",
        "Similarly,\n",
        "\n",
        "(write in comments during screen recording below functions)\n",
        "\n",
        "we have np.max() to find the max value across the array,\n",
        "np.mean() for finding the mean,\n",
        "np.median() to find the median value\n",
        "np.std() to find the standard deviation\n",
        "\n",
        "The behaviour of all these functions are exactly similar.\n",
        "\n",
        "you can refer to numpy documentation for more information\n",
        "Okay. These were some of the important aggregate functions in numpy\n",
        "\n",
        "We can also call these aggregate functions in another way as well.\n",
        "\n",
        "like, array_name(dot)aggregate_function \n",
        "\n",
        "To illustrate, I will call the sum() function on array 'x' like this\n",
        "\"\"\"\n",
        "x.sum()\n"
      ],
      "execution_count": null,
      "outputs": [
        {
          "output_type": "execute_result",
          "data": {
            "text/plain": [
              "235"
            ]
          },
          "metadata": {
            "tags": []
          },
          "execution_count": 39
        }
      ]
    },
    {
      "cell_type": "code",
      "metadata": {
        "id": "e6ADPunB5XjU",
        "outputId": "bc722604-dab9-4bc2-c680-3ce314402341",
        "colab": {
          "base_uri": "https://localhost:8080/",
          "height": 34
        }
      },
      "source": [
        "#Similarly, I will find the standard deviation like this\n",
        "x.std()"
      ],
      "execution_count": null,
      "outputs": [
        {
          "output_type": "execute_result",
          "data": {
            "text/plain": [
              "14.361406616345072"
            ]
          },
          "metadata": {
            "tags": []
          },
          "execution_count": 40
        }
      ]
    },
    {
      "cell_type": "code",
      "metadata": {
        "id": "r_ahEYMt5cxR",
        "outputId": "5e6e6b8b-c70a-456c-93ec-23897d498acb",
        "colab": {
          "base_uri": "https://localhost:8080/",
          "height": 34
        }
      },
      "source": [
        "#mean of array 'x', along axis = 0 like this\n",
        "x.mean(axis = 0)"
      ],
      "execution_count": null,
      "outputs": [
        {
          "output_type": "execute_result",
          "data": {
            "text/plain": [
              "array([13.5, 18.5, 23.5, 28.5, 33.5])"
            ]
          },
          "metadata": {
            "tags": []
          },
          "execution_count": 41
        }
      ]
    },
    {
      "cell_type": "code",
      "metadata": {
        "id": "Py2meWU_5jEK"
      },
      "source": [
        "\"\"\"\n",
        "So, these were some of the important concepts we need to know in numpy package.\n",
        "\n",
        "Now, before starting next section, I highly recommend you to complete the assignment, so that\n",
        "you will have the confidence on all the topics which you have learnt till now.\n",
        "\n",
        "See you in the next section\n",
        "\"\"\""
      ],
      "execution_count": null,
      "outputs": []
    }
  ]
}