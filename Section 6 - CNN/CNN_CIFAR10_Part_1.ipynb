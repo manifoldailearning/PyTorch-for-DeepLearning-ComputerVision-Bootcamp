{
  "nbformat": 4,
  "nbformat_minor": 0,
  "metadata": {
    "colab": {
      "name": "CNN - CIFAR10 - Part 1.ipynb",
      "version": "0.3.2",
      "provenance": [],
      "collapsed_sections": []
    },
    "kernelspec": {
      "name": "python3",
      "display_name": "Python 3"
    },
    "accelerator": "GPU"
  },
  "cells": [
    {
      "cell_type": "code",
      "metadata": {
        "id": "CM7Nwdj4lVi9",
        "colab_type": "code",
        "colab": {}
      },
      "source": [
        "import torch\n",
        "import torch.nn as nn\n",
        "import numpy as np\n",
        "import matplotlib.pyplot as plt"
      ],
      "execution_count": 0,
      "outputs": []
    },
    {
      "cell_type": "code",
      "metadata": {
        "id": "uciHzivamHnO",
        "colab_type": "code",
        "colab": {}
      },
      "source": [
        "#torchvision package\n",
        "import torchvision"
      ],
      "execution_count": 0,
      "outputs": []
    },
    {
      "cell_type": "code",
      "metadata": {
        "id": "QA18d_5kmMOo",
        "colab_type": "code",
        "outputId": "dd4b8fc5-1e08-4a19-cba2-368d99f51773",
        "colab": {
          "base_uri": "https://localhost:8080/",
          "height": 52
        }
      },
      "source": [
        "trainset = torchvision.datasets.CIFAR10(root = './data',train = True,\n",
        "                                       download = True, transform = torchvision.transforms.ToTensor())\n",
        "#transform --> transform the data during creation"
      ],
      "execution_count": 0,
      "outputs": [
        {
          "output_type": "stream",
          "text": [
            "\r0it [00:00, ?it/s]"
          ],
          "name": "stderr"
        },
        {
          "output_type": "stream",
          "text": [
            "Downloading https://www.cs.toronto.edu/~kriz/cifar-10-python.tar.gz to ./data/cifar-10-python.tar.gz\n"
          ],
          "name": "stdout"
        },
        {
          "output_type": "stream",
          "text": [
            "100%|█████████▉| 170033152/170498071 [00:14<00:00, 12009078.41it/s]"
          ],
          "name": "stderr"
        }
      ]
    },
    {
      "cell_type": "code",
      "metadata": {
        "id": "el4Z20L9mjzw",
        "colab_type": "code",
        "colab": {}
      },
      "source": [
        "#class labels\n",
        "classes = ('airplane', 'automobile', 'bird', 'cat', 'deer', 'dog', 'frog', 'horse', 'ship',' truck' )"
      ],
      "execution_count": 0,
      "outputs": []
    },
    {
      "cell_type": "code",
      "metadata": {
        "id": "rAc3NGQ_m6Y_",
        "colab_type": "code",
        "outputId": "7d121513-88b1-44c9-9913-43673bd3b420",
        "colab": {
          "base_uri": "https://localhost:8080/",
          "height": 35
        }
      },
      "source": [
        "type(trainset)"
      ],
      "execution_count": 0,
      "outputs": [
        {
          "output_type": "execute_result",
          "data": {
            "text/plain": [
              "torchvision.datasets.cifar.CIFAR10"
            ]
          },
          "metadata": {
            "tags": []
          },
          "execution_count": 5
        }
      ]
    },
    {
      "cell_type": "code",
      "metadata": {
        "id": "Ovr4Tl4Um9HY",
        "colab_type": "code",
        "colab": {}
      },
      "source": [
        "#loading the dataset --> DataLoader class (torch.utils.data.DataLoader)\n",
        "trainloader = torch.utils.data.DataLoader(trainset)"
      ],
      "execution_count": 0,
      "outputs": []
    },
    {
      "cell_type": "code",
      "metadata": {
        "id": "OYVZtP7VnQCC",
        "colab_type": "code",
        "outputId": "86ef672c-01ce-4846-d0fb-3819e4271fb9",
        "colab": {
          "base_uri": "https://localhost:8080/",
          "height": 35
        }
      },
      "source": [
        "data_iter = iter(trainloader)\n",
        "type(data_iter)"
      ],
      "execution_count": 0,
      "outputs": [
        {
          "output_type": "execute_result",
          "data": {
            "text/plain": [
              "torch.utils.data.dataloader._DataLoaderIter"
            ]
          },
          "metadata": {
            "tags": []
          },
          "execution_count": 7
        }
      ]
    },
    {
      "cell_type": "code",
      "metadata": {
        "id": "xG-XtMcMnVqk",
        "colab_type": "code",
        "outputId": "d9440a85-b7c1-43cd-8acc-3e427a11eb38",
        "colab": {
          "base_uri": "https://localhost:8080/",
          "height": 35
        }
      },
      "source": [
        "#Access the data --> next() method\n",
        "images,labels = data_iter.next()\n",
        "print(images.shape)"
      ],
      "execution_count": 0,
      "outputs": [
        {
          "output_type": "stream",
          "text": [
            "torch.Size([1, 3, 32, 32])\n"
          ],
          "name": "stdout"
        }
      ]
    },
    {
      "cell_type": "markdown",
      "metadata": {
        "id": "ISn7xfTGnhXN",
        "colab_type": "text"
      },
      "source": [
        "(1,3,32,32) -->\n",
        "\n",
        "1 - Batch Size, \n",
        "\n",
        "3 - channels in input,\n",
        "\n",
        "32,32 - shape of individual image "
      ]
    },
    {
      "cell_type": "code",
      "metadata": {
        "id": "Y33YOgNPnfDI",
        "colab_type": "code",
        "outputId": "9e6b3d64-f9d5-4c7e-aa6b-a394f60e0a4e",
        "colab": {
          "base_uri": "https://localhost:8080/",
          "height": 35
        }
      },
      "source": [
        "print(labels.item())"
      ],
      "execution_count": 0,
      "outputs": [
        {
          "output_type": "stream",
          "text": [
            "6\n"
          ],
          "name": "stdout"
        }
      ]
    },
    {
      "cell_type": "code",
      "metadata": {
        "id": "qckBeTQvns7Y",
        "colab_type": "code",
        "outputId": "87e98486-f55f-4376-a952-b10ef27aea15",
        "colab": {
          "base_uri": "https://localhost:8080/",
          "height": 35
        }
      },
      "source": [
        "classes[labels.item()]"
      ],
      "execution_count": 0,
      "outputs": [
        {
          "output_type": "execute_result",
          "data": {
            "text/plain": [
              "'frog'"
            ]
          },
          "metadata": {
            "tags": []
          },
          "execution_count": 10
        }
      ]
    },
    {
      "cell_type": "code",
      "metadata": {
        "id": "LJNU3xJ4n3jN",
        "colab_type": "code",
        "colab": {}
      },
      "source": [
        "#Specifying batch_size, Shuffle & load data in paralell using multiprocessing workers\n",
        "trainloader = torch.utils.data.DataLoader(trainset, batch_size = 4, shuffle = True)\n",
        "\n",
        "data_iter = iter(trainloader)\n",
        "images,labels = data_iter.next()"
      ],
      "execution_count": 0,
      "outputs": []
    },
    {
      "cell_type": "code",
      "metadata": {
        "id": "1jA8A0IwoWSa",
        "colab_type": "code",
        "outputId": "4b738261-cb96-46f8-d6bc-43bb88b5db89",
        "colab": {
          "base_uri": "https://localhost:8080/",
          "height": 35
        }
      },
      "source": [
        "print(images.shape)"
      ],
      "execution_count": 0,
      "outputs": [
        {
          "output_type": "stream",
          "text": [
            "torch.Size([4, 3, 32, 32])\n"
          ],
          "name": "stdout"
        }
      ]
    },
    {
      "cell_type": "markdown",
      "metadata": {
        "id": "mDOJqArVocqm",
        "colab_type": "text"
      },
      "source": [
        "(4,3,32,32) -->\n",
        "\n",
        "4 - Batch Size(no. of images loaded), \n",
        "\n",
        "3 - channels in input,\n",
        "\n",
        "32,32 - shape of individual image "
      ]
    },
    {
      "cell_type": "code",
      "metadata": {
        "id": "gvp9212goZFl",
        "colab_type": "code",
        "outputId": "d073afb9-4bd9-416a-e79c-c8d4bc592828",
        "colab": {
          "base_uri": "https://localhost:8080/",
          "height": 35
        }
      },
      "source": [
        "labels"
      ],
      "execution_count": 0,
      "outputs": [
        {
          "output_type": "execute_result",
          "data": {
            "text/plain": [
              "tensor([3, 6, 4, 2])"
            ]
          },
          "metadata": {
            "tags": []
          },
          "execution_count": 13
        }
      ]
    },
    {
      "cell_type": "markdown",
      "metadata": {
        "id": "8LUVYcbmsQpd",
        "colab_type": "text"
      },
      "source": [
        "# Visualize the Data"
      ]
    },
    {
      "cell_type": "code",
      "metadata": {
        "id": "ClFxhfqIojJ_",
        "colab_type": "code",
        "outputId": "70f2caf7-fa0e-4ede-d3ad-272e6cd0f6fe",
        "colab": {
          "base_uri": "https://localhost:8080/",
          "height": 35
        }
      },
      "source": [
        "image_data = images[0]\n",
        "image_data.shape"
      ],
      "execution_count": 0,
      "outputs": [
        {
          "output_type": "execute_result",
          "data": {
            "text/plain": [
              "torch.Size([3, 32, 32])"
            ]
          },
          "metadata": {
            "tags": []
          },
          "execution_count": 14
        }
      ]
    },
    {
      "cell_type": "code",
      "metadata": {
        "id": "213bBGaysjly",
        "colab_type": "code",
        "colab": {}
      },
      "source": [
        "#convert to numpy\n",
        "np_image = image_data.numpy()"
      ],
      "execution_count": 0,
      "outputs": []
    },
    {
      "cell_type": "code",
      "metadata": {
        "id": "OGS2-riXsvwH",
        "colab_type": "code",
        "outputId": "51b693f2-e5bd-4bb1-9e45-06be9fa9828b",
        "colab": {
          "base_uri": "https://localhost:8080/",
          "height": 35
        }
      },
      "source": [
        "np_image.shape"
      ],
      "execution_count": 0,
      "outputs": [
        {
          "output_type": "execute_result",
          "data": {
            "text/plain": [
              "(3, 32, 32)"
            ]
          },
          "metadata": {
            "tags": []
          },
          "execution_count": 16
        }
      ]
    },
    {
      "cell_type": "code",
      "metadata": {
        "id": "gPXRO_E9sxY_",
        "colab_type": "code",
        "colab": {}
      },
      "source": [
        "#transpose\n",
        "np_image = np.transpose(np_image, (1,2,0))"
      ],
      "execution_count": 0,
      "outputs": []
    },
    {
      "cell_type": "code",
      "metadata": {
        "id": "hPGKSexCs_e7",
        "colab_type": "code",
        "outputId": "76b0f586-256b-4962-fa11-933e6ad05dd2",
        "colab": {
          "base_uri": "https://localhost:8080/",
          "height": 35
        }
      },
      "source": [
        "np_image.shape"
      ],
      "execution_count": 0,
      "outputs": [
        {
          "output_type": "execute_result",
          "data": {
            "text/plain": [
              "(32, 32, 3)"
            ]
          },
          "metadata": {
            "tags": []
          },
          "execution_count": 18
        }
      ]
    },
    {
      "cell_type": "code",
      "metadata": {
        "id": "HlDbs96rtBsh",
        "colab_type": "code",
        "outputId": "0962965e-5890-4a9c-fa17-d5ec2153ddcd",
        "colab": {
          "base_uri": "https://localhost:8080/",
          "height": 161
        }
      },
      "source": [
        "#plotting the image\n",
        "plt.figure(figsize = (2,2))\n",
        "plt.imshow(np_image)\n",
        "plt.show()"
      ],
      "execution_count": 0,
      "outputs": [
        {
          "output_type": "display_data",
          "data": {
            "image/png": "[encoded data removed]",
            "text/plain": [
              "<Figure size 144x144 with 1 Axes>"
            ]
          },
          "metadata": {
            "tags": []
          }
        }
      ]
    },
    {
      "cell_type": "code",
      "metadata": {
        "id": "L8T9oaRctPep",
        "colab_type": "code",
        "outputId": "f8f9baaa-674f-4348-867b-ac09e87626b1",
        "colab": {
          "base_uri": "https://localhost:8080/",
          "height": 35
        }
      },
      "source": [
        "print(classes[labels[0].item()])"
      ],
      "execution_count": 0,
      "outputs": [
        {
          "output_type": "stream",
          "text": [
            "cat\n"
          ],
          "name": "stdout"
        }
      ]
    },
    {
      "cell_type": "code",
      "metadata": {
        "id": "tSj1IWtWto-p",
        "colab_type": "code",
        "colab": {}
      },
      "source": [
        "def image_show(image_data):\n",
        "  np_image = image_data.numpy()\n",
        "  np_image = np.transpose(np_image, (1,2,0))\n",
        "  plt.figure(figsize = (2,2))\n",
        "  plt.imshow(np_image)\n",
        "  plt.show()"
      ],
      "execution_count": 0,
      "outputs": []
    },
    {
      "cell_type": "code",
      "metadata": {
        "id": "y-2RMyExuKs6",
        "colab_type": "code",
        "outputId": "9f24bb3c-4f36-4d2d-fa4d-26692bfedf38",
        "colab": {
          "base_uri": "https://localhost:8080/",
          "height": 161
        }
      },
      "source": [
        "image_show(images[1])"
      ],
      "execution_count": 0,
      "outputs": [
        {
          "output_type": "display_data",
          "data": {
            "image/png": "[encoded data removed]",
            "text/plain": [
              "<Figure size 144x144 with 1 Axes>"
            ]
          },
          "metadata": {
            "tags": []
          }
        }
      ]
    },
    {
      "cell_type": "code",
      "metadata": {
        "id": "WH7pVNQ0uSzT",
        "colab_type": "code",
        "outputId": "d33d8502-55f4-4a65-ff53-2c0661c471be",
        "colab": {
          "base_uri": "https://localhost:8080/",
          "height": 35
        }
      },
      "source": [
        "print(classes[labels[1].item()])"
      ],
      "execution_count": 0,
      "outputs": [
        {
          "output_type": "stream",
          "text": [
            "frog\n"
          ],
          "name": "stdout"
        }
      ]
    },
    {
      "cell_type": "markdown",
      "metadata": {
        "id": "CurdwONIuxYL",
        "colab_type": "text"
      },
      "source": [
        "# First Convolution Layer"
      ]
    },
    {
      "cell_type": "code",
      "metadata": {
        "id": "fTLddf80uVph",
        "colab_type": "code",
        "colab": {}
      },
      "source": [
        "class FirstCNN(nn.Module):\n",
        "  def __init__(self):\n",
        "    super(FirstCNN,self).__init__()\n",
        "    self.conv1 = nn.Conv2d(3,10,3)  # (no. of input channels, number of output channels, kernel size)\n",
        "    # kernel size --> 3 = (3,3)\n",
        "  \n",
        "  def forward(self,x):\n",
        "    y = self.conv1(x)\n",
        "    return y"
      ],
      "execution_count": 0,
      "outputs": []
    },
    {
      "cell_type": "code",
      "metadata": {
        "id": "7qluIFOFu0x3",
        "colab_type": "code",
        "colab": {}
      },
      "source": [
        "cnn = FirstCNN()"
      ],
      "execution_count": 0,
      "outputs": []
    },
    {
      "cell_type": "code",
      "metadata": {
        "id": "JVsK69Htu0lR",
        "colab_type": "code",
        "colab": {}
      },
      "source": [
        "out = cnn(images)"
      ],
      "execution_count": 0,
      "outputs": []
    },
    {
      "cell_type": "code",
      "metadata": {
        "id": "OfjK158Uu0im",
        "colab_type": "code",
        "outputId": "0f927da9-2a17-4346-94df-98465e19bf45",
        "colab": {
          "base_uri": "https://localhost:8080/",
          "height": 35
        }
      },
      "source": [
        "print(out.shape)"
      ],
      "execution_count": 0,
      "outputs": [
        {
          "output_type": "stream",
          "text": [
            "torch.Size([4, 10, 30, 30])\n"
          ],
          "name": "stdout"
        }
      ]
    },
    {
      "cell_type": "markdown",
      "metadata": {
        "id": "ZpG2snLUKT04",
        "colab_type": "text"
      },
      "source": [
        "(4,10,30,30) -->\n",
        "\n",
        "4 : number of images (batch size)\n",
        "\n",
        "10 : Channels in output\n",
        "\n",
        "(30,30)  : Resultant image Size\n",
        "\n",
        "\n",
        "**Default:**\n",
        "\n",
        "Padding = (0,0), Stride  = (1,1)"
      ]
    },
    {
      "cell_type": "code",
      "metadata": {
        "id": "TwLaHEkYu0fu",
        "colab_type": "code",
        "outputId": "1e524de7-b793-47f0-d303-ed69f8ec856b",
        "colab": {
          "base_uri": "https://localhost:8080/",
          "height": 35
        }
      },
      "source": [
        "#image after convolution\n",
        "sample = out[0,0,:,:]\n",
        "sample.shape"
      ],
      "execution_count": 0,
      "outputs": [
        {
          "output_type": "execute_result",
          "data": {
            "text/plain": [
              "torch.Size([30, 30])"
            ]
          },
          "metadata": {
            "tags": []
          },
          "execution_count": 29
        }
      ]
    },
    {
      "cell_type": "code",
      "metadata": {
        "id": "lc16b9z6u0bS",
        "colab_type": "code",
        "outputId": "27b7ca83-c7ad-4dc7-cf39-741a9a28e355",
        "colab": {
          "base_uri": "https://localhost:8080/",
          "height": 161
        }
      },
      "source": [
        "plt.figure(figsize = (2,2))\n",
        "plt.imshow(sample.detach().numpy())\n",
        "plt.show()"
      ],
      "execution_count": 0,
      "outputs": [
        {
          "output_type": "display_data",
          "data": {
            "image/png": "[encoded data removed]",
            "text/plain": [
              "<Figure size 144x144 with 1 Axes>"
            ]
          },
          "metadata": {
            "tags": []
          }
        }
      ]
    },
    {
      "cell_type": "code",
      "metadata": {
        "id": "VUtKW58du0LI",
        "colab_type": "code",
        "outputId": "11d01dc9-14e1-4afe-cfbb-cec1a5c0808a",
        "colab": {
          "base_uri": "https://localhost:8080/",
          "height": 161
        }
      },
      "source": [
        "#2nd filter\n",
        "sample = out[0,1,:,:]\n",
        "plt.figure(figsize = (2,2))\n",
        "plt.imshow(sample.detach().numpy())\n",
        "plt.show()"
      ],
      "execution_count": 0,
      "outputs": [
        {
          "output_type": "display_data",
          "data": {
            "image/png": "[encoded data removed]",
            "text/plain": [
              "<Figure size 144x144 with 1 Axes>"
            ]
          },
          "metadata": {
            "tags": []
          }
        }
      ]
    },
    {
      "cell_type": "code",
      "metadata": {
        "id": "-jJ1CAfBMQK9",
        "colab_type": "code",
        "colab": {}
      },
      "source": [
        "#Padding & Stride\n",
        "#By Default: Padding = (0,0) & Stride = (1,1)\n",
        "\n",
        "class FirstCNN(nn.Module):\n",
        "  def __init__(self):\n",
        "    super(FirstCNN,self).__init__()\n",
        "    self.conv1 = nn.Conv2d(3,10,3, padding = (1,1) )  # Padding = 1,1\n",
        "    # kernel size --> 3 = (3,3)\n",
        "  \n",
        "  def forward(self,x):\n",
        "    y = self.conv1(x)\n",
        "    return y"
      ],
      "execution_count": 0,
      "outputs": []
    },
    {
      "cell_type": "code",
      "metadata": {
        "id": "Ld5DaSoRMsUh",
        "colab_type": "code",
        "colab": {}
      },
      "source": [
        "cnn = FirstCNN()"
      ],
      "execution_count": 0,
      "outputs": []
    },
    {
      "cell_type": "code",
      "metadata": {
        "id": "8YB7CuwoMs6z",
        "colab_type": "code",
        "colab": {}
      },
      "source": [
        "out = cnn(images)"
      ],
      "execution_count": 0,
      "outputs": []
    },
    {
      "cell_type": "code",
      "metadata": {
        "id": "rMRG_3etMvej",
        "colab_type": "code",
        "outputId": "f572a5ca-e6ac-423d-c88b-818a0ca2d3b4",
        "colab": {
          "base_uri": "https://localhost:8080/",
          "height": 35
        }
      },
      "source": [
        "out.shape"
      ],
      "execution_count": 0,
      "outputs": [
        {
          "output_type": "execute_result",
          "data": {
            "text/plain": [
              "torch.Size([4, 10, 32, 32])"
            ]
          },
          "metadata": {
            "tags": []
          },
          "execution_count": 38
        }
      ]
    },
    {
      "cell_type": "code",
      "metadata": {
        "id": "3AJGKRf5Mx00",
        "colab_type": "code",
        "outputId": "6fb3ef68-8442-4195-c257-7825b9cea4ea",
        "colab": {
          "base_uri": "https://localhost:8080/",
          "height": 35
        }
      },
      "source": [
        "#Stride = 1\n",
        "\n",
        "class FirstCNN(nn.Module):\n",
        "  def __init__(self):\n",
        "    super(FirstCNN,self).__init__()\n",
        "    self.conv1 = nn.Conv2d(3,10,3, padding = (1,1), stride = (1,1) )  # Stride = 1,1\n",
        "    # kernel size --> 3 = (3,3)\n",
        "  \n",
        "  def forward(self,x):\n",
        "    y = self.conv1(x)\n",
        "    return y\n",
        "\n",
        "  \n",
        "cnn = FirstCNN()\n",
        "out = cnn(images)\n",
        "out.shape"
      ],
      "execution_count": 0,
      "outputs": [
        {
          "output_type": "execute_result",
          "data": {
            "text/plain": [
              "torch.Size([4, 10, 32, 32])"
            ]
          },
          "metadata": {
            "tags": []
          },
          "execution_count": 39
        }
      ]
    },
    {
      "cell_type": "code",
      "metadata": {
        "id": "muB3PAk-NSYG",
        "colab_type": "code",
        "outputId": "57bd3eba-94f3-485e-8bf4-f9aae47e10fc",
        "colab": {
          "base_uri": "https://localhost:8080/",
          "height": 35
        }
      },
      "source": [
        "#Stride = 2\n",
        "\n",
        "class FirstCNN(nn.Module):\n",
        "  def __init__(self):\n",
        "    super(FirstCNN,self).__init__()\n",
        "    self.conv1 = nn.Conv2d(3,10,3, padding = (1,1), stride = (2,2) )  # Stride = 2,2\n",
        "    # kernel size --> 3 = (3,3)\n",
        "  \n",
        "  def forward(self,x):\n",
        "    y = self.conv1(x)\n",
        "    return y\n",
        "\n",
        "  \n",
        "cnn = FirstCNN()\n",
        "out = cnn(images)\n",
        "out.shape"
      ],
      "execution_count": 0,
      "outputs": [
        {
          "output_type": "execute_result",
          "data": {
            "text/plain": [
              "torch.Size([4, 10, 16, 16])"
            ]
          },
          "metadata": {
            "tags": []
          },
          "execution_count": 40
        }
      ]
    },
    {
      "cell_type": "code",
      "metadata": {
        "id": "M02hufThNjSW",
        "colab_type": "code",
        "outputId": "4a7adaaa-158f-4683-aabb-3866a190f601",
        "colab": {
          "base_uri": "https://localhost:8080/",
          "height": 35
        }
      },
      "source": [
        "#Stride = 2 without padding\n",
        "\n",
        "class FirstCNN(nn.Module):\n",
        "  def __init__(self):\n",
        "    super(FirstCNN,self).__init__()\n",
        "    self.conv1 = nn.Conv2d(3,10,3, stride = (2,2) )  # Stride = 2,2\n",
        "    # kernel size --> 3 = (3,3)\n",
        "  \n",
        "  def forward(self,x):\n",
        "    y = self.conv1(x)\n",
        "    return y\n",
        "\n",
        "  \n",
        "cnn = FirstCNN()\n",
        "out = cnn(images)\n",
        "out.shape"
      ],
      "execution_count": 0,
      "outputs": [
        {
          "output_type": "execute_result",
          "data": {
            "text/plain": [
              "torch.Size([4, 10, 15, 15])"
            ]
          },
          "metadata": {
            "tags": []
          },
          "execution_count": 46
        }
      ]
    },
    {
      "cell_type": "markdown",
      "metadata": {
        "id": "MTvn4HcjPV1_",
        "colab_type": "text"
      },
      "source": [
        "# Deep Convolution Networks"
      ]
    },
    {
      "cell_type": "code",
      "metadata": {
        "id": "roLjlPJ-N2CT",
        "colab_type": "code",
        "colab": {}
      },
      "source": [
        "class DeepCNN(nn.Module):\n",
        "  def __init__(self):\n",
        "    super(DeepCNN,self).__init__()\n",
        "    self.model = nn.Sequential(nn.Conv2d(3,10,3),\n",
        "                              nn.Conv2d(10,5,3))\n",
        "    \n",
        "  def forward(self,x):\n",
        "    y = self.model(x)\n",
        "    return y"
      ],
      "execution_count": 0,
      "outputs": []
    },
    {
      "cell_type": "markdown",
      "metadata": {
        "id": "4_pxtfVlQivr",
        "colab_type": "text"
      },
      "source": [
        "### Intuition of Convolution:\n",
        "\n",
        "Input = 4,3,32,32\n",
        "\n",
        "1st Convolution Layer --> Kernel = 3,3 & output channels = 10\n",
        "\n",
        "Default padding = 0, Stride = 1\n",
        "\n",
        "\n",
        "**output, as a Result of 1st Convolution :** *4,10,30,30*\n",
        "\n",
        "---\n",
        "\n",
        "2nd Convolution Layer --> Kernel = (3,3) & output channels = 5\n",
        "\n",
        "**output, as a Result of 2nd Convolution :** *4,5,28,28*\n",
        "\n",
        "Default padding = 0, Stride = 1"
      ]
    },
    {
      "cell_type": "code",
      "metadata": {
        "id": "aS0a7JuaQhsP",
        "colab_type": "code",
        "outputId": "e8bd8f73-f63a-4b06-ccf3-c68bef55ae89",
        "colab": {
          "base_uri": "https://localhost:8080/",
          "height": 35
        }
      },
      "source": [
        "deep = DeepCNN()\n",
        "out = deep(images)\n",
        "print(out.shape)"
      ],
      "execution_count": 0,
      "outputs": [
        {
          "output_type": "stream",
          "text": [
            "torch.Size([4, 5, 28, 28])\n"
          ],
          "name": "stdout"
        }
      ]
    },
    {
      "cell_type": "code",
      "metadata": {
        "id": "fEcW7JYMSCOh",
        "colab_type": "code",
        "outputId": "22c934b5-4325-4db9-a861-b940beb239c4",
        "colab": {
          "base_uri": "https://localhost:8080/",
          "height": 161
        }
      },
      "source": [
        "sample = out[0,1,:,:]\n",
        "plt.figure(figsize = (2,2))\n",
        "plt.imshow(sample.detach().numpy())\n",
        "plt.show()"
      ],
      "execution_count": 0,
      "outputs": [
        {
          "output_type": "display_data",
          "data": {
            "image/png": "[encoded data removed]",
            "text/plain": [
              "<Figure size 144x144 with 1 Axes>"
            ]
          },
          "metadata": {
            "tags": []
          }
        }
      ]
    },
    {
      "cell_type": "code",
      "metadata": {
        "id": "hrfzmXY1SrMW",
        "colab_type": "code",
        "colab": {}
      },
      "source": [
        "#Mean Pool or Avg pool\n",
        "class avg_pool(nn.Module):\n",
        "  def __init__(self):\n",
        "    super(avg_pool,self).__init__()\n",
        "    self.model = nn.Sequential(nn.Conv2d(3,10,3),\n",
        "                              nn.Conv2d(10,5,3),\n",
        "                              nn.AvgPool2d(2, stride = 2)) # Kernel size, Stride\n",
        "    #Stride = 2 --> (2,2)\n",
        "    \n",
        "  def forward(self,x):\n",
        "    y = self.model(x)\n",
        "    return y"
      ],
      "execution_count": 0,
      "outputs": []
    },
    {
      "cell_type": "code",
      "metadata": {
        "id": "K3TudJL5TZKe",
        "colab_type": "code",
        "outputId": "a409e1d0-d488-43e7-858f-f4804d7a1c82",
        "colab": {
          "base_uri": "https://localhost:8080/",
          "height": 35
        }
      },
      "source": [
        "avg = avg_pool()\n",
        "out = avg(images)\n",
        "print(out.shape)"
      ],
      "execution_count": 0,
      "outputs": [
        {
          "output_type": "stream",
          "text": [
            "torch.Size([4, 5, 14, 14])\n"
          ],
          "name": "stdout"
        }
      ]
    },
    {
      "cell_type": "code",
      "metadata": {
        "id": "FckzLqmPTefL",
        "colab_type": "code",
        "outputId": "6d9d2ddd-4f5a-40b3-862d-b0fbf86807b1",
        "colab": {
          "base_uri": "https://localhost:8080/",
          "height": 161
        }
      },
      "source": [
        "sample = out[0,1,:,:]\n",
        "plt.figure(figsize = (2,2))\n",
        "plt.imshow(sample.detach().numpy())\n",
        "plt.show()"
      ],
      "execution_count": 0,
      "outputs": [
        {
          "output_type": "display_data",
          "data": {
            "image/png": "[encoded data removed]",
            "text/plain": [
              "<Figure size 144x144 with 1 Axes>"
            ]
          },
          "metadata": {
            "tags": []
          }
        }
      ]
    },
    {
      "cell_type": "code",
      "metadata": {
        "id": "-Bs9uHSDTkYp",
        "colab_type": "code",
        "colab": {}
      },
      "source": [
        "#Max Pool\n",
        "class max_pool(nn.Module):\n",
        "  def __init__(self):\n",
        "    super(max_pool,self).__init__()\n",
        "    self.model = nn.Sequential(nn.Conv2d(3,10,3),\n",
        "                              nn.Conv2d(10,5,3),\n",
        "                              nn.MaxPool2d(2, stride = 2)) # Kernel size, Stride\n",
        "    #Stride = 2 --> (2,2)\n",
        "    \n",
        "  def forward(self,x):\n",
        "    y = self.model(x)\n",
        "    return y"
      ],
      "execution_count": 0,
      "outputs": []
    },
    {
      "cell_type": "code",
      "metadata": {
        "id": "UIbT3MjXT1o6",
        "colab_type": "code",
        "outputId": "0e3c9330-8b4f-42f3-e4e1-42a820f999ef",
        "colab": {
          "base_uri": "https://localhost:8080/",
          "height": 35
        }
      },
      "source": [
        "max_p = max_pool()\n",
        "out = max_p(images)\n",
        "print(out.shape)"
      ],
      "execution_count": 0,
      "outputs": [
        {
          "output_type": "stream",
          "text": [
            "torch.Size([4, 5, 14, 14])\n"
          ],
          "name": "stdout"
        }
      ]
    },
    {
      "cell_type": "code",
      "metadata": {
        "id": "J0M4ZlUQT-Nr",
        "colab_type": "code",
        "outputId": "01277184-b7ff-440f-b41a-732903ae5c32",
        "colab": {
          "base_uri": "https://localhost:8080/",
          "height": 161
        }
      },
      "source": [
        "sample = out[0,1,:,:]\n",
        "plt.figure(figsize = (2,2))\n",
        "plt.imshow(sample.detach().numpy())\n",
        "plt.show()"
      ],
      "execution_count": 0,
      "outputs": [
        {
          "output_type": "display_data",
          "data": {
            "image/png": "[encoded data removed]",
            "text/plain": [
              "<Figure size 144x144 with 1 Axes>"
            ]
          },
          "metadata": {
            "tags": []
          }
        }
      ]
    },
    {
      "cell_type": "code",
      "metadata": {
        "id": "Gp5xvsL0UDKO",
        "colab_type": "code",
        "colab": {}
      },
      "source": [
        ""
      ],
      "execution_count": 0,
      "outputs": []
    }
  ]
}