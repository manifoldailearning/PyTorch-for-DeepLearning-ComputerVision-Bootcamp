{
  "nbformat": 4,
  "nbformat_minor": 0,
  "metadata": {
    "colab": {
      "provenance": []
    },
    "kernelspec": {
      "name": "python3",
      "display_name": "Python 3"
    }
  },
  "cells": [
    {
      "cell_type": "markdown",
      "metadata": {
        "id": "Wb2bNjTLO9wG"
      },
      "source": [
        "# DLAI S08A01 - Pandas Library"
      ]
    },
    {
      "cell_type": "code",
      "metadata": {
        "id": "1luXlTaAOq7U"
      },
      "source": [
        "\"\"\"\n",
        "In this section, we are going to learn about the Pandas Library\n",
        "\n",
        "This Pandas library is one of the most popular Python libraries for Data Science , we often refer them as -->  “SQL of Python” \n",
        "and this is Because, pandas helps us to manage the two-dimensional data tables in Python. \n",
        "When I say, managing the data tables using pandas, that means --> We will be making use of pandas in data cleaning, \n",
        "transforming, and analyzing .\n",
        "\n",
        "In short, the numpy library which we had learnt in last section, will help us to perform the calculations efficiently, and\n",
        "the pandas library, will help us to extract the required data from external source, and transform it, so that it can be used in\n",
        "numpy arrays for mathematical analysis. And, knowing how to work with pandas library, will make your life easier when performing the data\n",
        "analysis.\n",
        "\n",
        "So, as a first step in working with any library, Lets start with importing the library.\n",
        "\n",
        "The common practice to import the pandas library, is with a shorter name as pd\n",
        "So, I will write as :\n",
        "\"\"\"\n",
        "import pandas as pd\n",
        "\n",
        "\"\"\"\n",
        "I will now execute the code.\n",
        "\"\"\";"
      ],
      "execution_count": null,
      "outputs": []
    },
    {
      "cell_type": "code",
      "metadata": {
        "id": "_bP5AUDdIE_B",
        "outputId": "963fdb16-8e4f-4b35-a385-332e88bbfa4f",
        "colab": {
          "base_uri": "https://localhost:8080/",
          "height": 34
        }
      },
      "source": [
        "\"\"\"\n",
        "Okay, the library has been imported for our session,\n",
        "For verification, lets print the version of pandas library which has been installed in our system.\n",
        "So, I will write as :\n",
        "\"\"\"\n",
        "print(pd.__version__)"
      ],
      "execution_count": null,
      "outputs": [
        {
          "output_type": "stream",
          "text": [
            "0.25.3\n"
          ],
          "name": "stdout"
        }
      ]
    },
    {
      "cell_type": "code",
      "metadata": {
        "id": "IKG3Y1EeICOo"
      },
      "source": [
        "\"\"\"\n",
        "Okay, This is the version of pandas package that has been installed in my system.\n",
        "The version which I have in my system might be different than what is present in your system,\n",
        "but the core thing is, you should have an output like this to verify that pandas library has been installed.\n",
        "\n",
        "Now, Just like we have the numpy arrays as a core component of numpy library,\n",
        "We have two core components in Pandas,\n",
        "They are: 'Pandas Series' and 'Pandas Data Frame'\n",
        "\n",
        "The 'pandas series' refer to the single column of data and the Data frame, is a multi-dimensional table made up of\n",
        "a collection of Series.\n",
        "You will understand more as we progress in this section.\n",
        "\n",
        "So, lets start with understanding of Pandas Series.\n",
        "\n",
        "This pandas Series can be called as a cross between a' python list' and a 'dictionary'.  This is because, The items are all \n",
        "stored in an order and we have a label with which we can use to retrieve them, and apart from label we can also retrieve the\n",
        "elements using its index position.\n",
        "\n",
        "For our understanding we can visualize Python Series as a 3 columns of data.\n",
        "The first column is the special index, this is just like the dictionary keys, and the second column as the actual data. \n",
        "Apart from Index labels, we also have another column which has the data of index position.\n",
        "\n",
        "So, As a first step, \n",
        "Lets learn how to create the pandas series.\n",
        "\n",
        "We can create a pandas series by passing a list of values into the pandas(dot)Series constructor.\n",
        "\n",
        "To illustrate this,\n",
        "I will first create a python list like this.\n",
        "\"\"\"\n",
        "\n",
        "got_list = [\"Ned Stark\",\"Catelyn Stark\",\"Arya Stark\",\"Sansa Stark\", \"Rob Stark\", \"Bran Stark\", \"Rickon Stark\"]\n"
      ],
      "execution_count": null,
      "outputs": []
    },
    {
      "cell_type": "code",
      "metadata": {
        "id": "u-eXSwi83hZd"
      },
      "source": [
        "\"\"\"\n",
        "Okay I have now created a python list.\n",
        "\n",
        "Now, Lets convert this to Python Series by passing inside the pandas.Series() constructor\n",
        "\"\"\"\n",
        "got_series = pd.Series(got_list)\n",
        " #I will now execute the code"
      ],
      "execution_count": null,
      "outputs": []
    },
    {
      "cell_type": "code",
      "metadata": {
        "id": "j6ra8ekaMl16",
        "outputId": "e41a6482-c5a6-40f2-f631-b9a83b4b266a",
        "colab": {
          "base_uri": "https://localhost:8080/",
          "height": 34
        }
      },
      "source": [
        "\"\"\"\n",
        "Okay, \n",
        "This has created the pandas series.\n",
        "\n",
        "As you have observed, to create the pandas series, we will simply pass the python list\n",
        "inside the --> pd.Series() constructor.\n",
        "\n",
        "Now, lets display the type of new series.\n",
        "So, I will write as :\n",
        "\n",
        "\"\"\"\n",
        "print(type(got_series))"
      ],
      "execution_count": null,
      "outputs": [
        {
          "output_type": "stream",
          "text": [
            "<class 'pandas.core.series.Series'>\n"
          ],
          "name": "stdout"
        }
      ]
    },
    {
      "cell_type": "code",
      "metadata": {
        "id": "S2VM8qEWNM2W",
        "outputId": "6909a08a-68fb-4e96-c763-0d9aa3da6296",
        "colab": {
          "base_uri": "https://localhost:8080/",
          "height": 155
        }
      },
      "source": [
        "\"\"\"\n",
        "As we can see in the output, the type of the variable  'got_series' is Pandas Series.\n",
        "\n",
        "Now, lets print the newly created series and see how it looks like\n",
        "\"\"\"\n",
        "print(got_series)"
      ],
      "execution_count": null,
      "outputs": [
        {
          "output_type": "stream",
          "text": [
            "0        Ned Stark\n",
            "1    Catelyn Stark\n",
            "2       Arya Stark\n",
            "3      Sansa Stark\n",
            "4        Rob Stark\n",
            "5       Bran Stark\n",
            "6     Rickon Stark\n",
            "dtype: object\n"
          ],
          "name": "stdout"
        }
      ]
    },
    {
      "cell_type": "code",
      "metadata": {
        "id": "yLX6p7kTNwDL",
        "outputId": "ae8dc7c6-47ca-45cb-d0d0-f143efe6ab43",
        "colab": {
          "base_uri": "https://localhost:8080/",
          "height": 173
        }
      },
      "source": [
        "\"\"\"\n",
        "As we can see in the output, \n",
        "Pandas has automatically assigns an index starting with zero,\n",
        "also we can see that, data_type of the newly created Pandas Series is set as --> object\n",
        "That means, pandas has automatically identified the type of the data being used in the pandas series.\n",
        "\n",
        "Now, This time, I will create one more python list of integers and convert to pandas series.\n",
        "So i will write as :\n",
        "\"\"\"\n",
        "py_list = [1,2,3,4,5,6,7,8]\n",
        "py_series = pd.Series(py_list)\n",
        "print(py_series)\n",
        "# I will now execute the code"
      ],
      "execution_count": null,
      "outputs": [
        {
          "output_type": "stream",
          "text": [
            "0    1\n",
            "1    2\n",
            "2    3\n",
            "3    4\n",
            "4    5\n",
            "5    6\n",
            "6    7\n",
            "7    8\n",
            "dtype: int64\n"
          ],
          "name": "stdout"
        }
      ]
    },
    {
      "cell_type": "code",
      "metadata": {
        "id": "x3Akszh4NKh-",
        "outputId": "062f80ba-1522-4588-ae3f-a39949c067dc",
        "colab": {
          "base_uri": "https://localhost:8080/",
          "height": 207
        }
      },
      "source": [
        "\"\"\"\n",
        "As we can see in the output,\n",
        "when we pass in -->  a list of integers, the pandas has created the pandas series of data_type int64.\n",
        " \n",
        "Also if you observe, the index values are starting from zero as default.\n",
        "Now, We can also specify our own set of index values when we are creating a Series. \n",
        "\n",
        "To illustrate the same, i will write as :\n",
        "\"\"\"\n",
        "import numpy as np\n",
        "custom_index = pd.Series([1,2,3,4,5,6,7,8,9,10],index=np.arange(0,20,2))\n",
        "print(custom_index)\n",
        "\n",
        "\"\"\"\n",
        "here, I am creating the pandas series with python list which has the numbers between 1 to 10,\n",
        "and i have specified one more parameter 'index' as np.arange(0,12,2), that means, numbers between 0 to 20 with step size as 2.\n",
        "\n",
        "Okay.\n",
        "Lets execute this.\n",
        "\"\"\";"
      ],
      "execution_count": null,
      "outputs": [
        {
          "output_type": "stream",
          "text": [
            "0      1\n",
            "2      2\n",
            "4      3\n",
            "6      4\n",
            "8      5\n",
            "10     6\n",
            "12     7\n",
            "14     8\n",
            "16     9\n",
            "18    10\n",
            "dtype: int64\n"
          ],
          "name": "stdout"
        }
      ]
    },
    {
      "cell_type": "code",
      "metadata": {
        "id": "Jnq0khPqTMqz",
        "outputId": "81d08bf0-4998-4886-ee1b-2816e5e0b303",
        "colab": {
          "base_uri": "https://localhost:8080/",
          "height": 207
        }
      },
      "source": [
        "\"\"\"\n",
        "As we can see in the output, the pandas series has the elements between 1 to 10, and has its index as --> 0,2,4,6, and so on\n",
        "\n",
        "The creation of pandas series are not just limited to 'lists', we can also create from numpy arrays as well.\n",
        "To illustrate, I will write as\n",
        "\"\"\"\n",
        "num_series = pd.Series(np.arange(10,110,10), index = np.arange(10,20))\n",
        "print(num_series)"
      ],
      "execution_count": null,
      "outputs": [
        {
          "output_type": "stream",
          "text": [
            "10     10\n",
            "11     20\n",
            "12     30\n",
            "13     40\n",
            "14     50\n",
            "15     60\n",
            "16     70\n",
            "17     80\n",
            "18     90\n",
            "19    100\n",
            "dtype: int64\n"
          ],
          "name": "stdout"
        }
      ]
    },
    {
      "cell_type": "code",
      "metadata": {
        "id": "wP4NjLWFTPQW",
        "outputId": "7abd1e96-9cc0-4af2-8703-0efc929e0fa1",
        "colab": {
          "base_uri": "https://localhost:8080/",
          "height": 121
        }
      },
      "source": [
        "\"\"\"\n",
        "As we can see in the output, the index are between 10 to 19, and the elements of pandas series as --> 10,20,30 upto 100\n",
        "\n",
        "So, we are now clear as how to create a pandas series and, how to specify our own index values.\n",
        "Now, these special index are not just limited to numbers, we can also use String values as Index as well.\n",
        "\n",
        "To illustrate, I will write it like this.\n",
        "\"\"\"\n",
        "str_series = pd.Series(np.arange(10,60,10), index = ['a','b','c','d','e'])\n",
        "print(str_series)"
      ],
      "execution_count": null,
      "outputs": [
        {
          "output_type": "stream",
          "text": [
            "a    10\n",
            "b    20\n",
            "c    30\n",
            "d    40\n",
            "e    50\n",
            "dtype: int64\n"
          ],
          "name": "stdout"
        }
      ]
    },
    {
      "cell_type": "code",
      "metadata": {
        "id": "LZmzXOCbVGJ2",
        "outputId": "23035d0b-e09f-4c99-aa6f-b8e88e4a6692",
        "colab": {
          "base_uri": "https://localhost:8080/",
          "height": 34
        }
      },
      "source": [
        "\"\"\"\n",
        "So, this has created the pandas series with index as --> string characters.\n",
        "\n",
        "Whenever we use pandas series, the three common attributes we refer are are --> name, data type & index\n",
        "lets call one by one,\n",
        "So, first i will call as -->\n",
        "\"\"\"\n",
        "print(str_series.name)"
      ],
      "execution_count": null,
      "outputs": [
        {
          "output_type": "stream",
          "text": [
            "None\n"
          ],
          "name": "stdout"
        }
      ]
    },
    {
      "cell_type": "code",
      "metadata": {
        "id": "4Gr8Zvj3CaBH",
        "outputId": "85292398-81c0-4c30-ce64-bf00f13630ac",
        "colab": {
          "base_uri": "https://localhost:8080/",
          "height": 121
        }
      },
      "source": [
        "\"\"\"\n",
        "So, we have the output as 'None'\n",
        "That means,\n",
        "whenever we create a pandas series using the --> Pandas.Series() constructor, the name will be set to\n",
        "'None' by default\n",
        "\n",
        "We can also specify the name if we require.\n",
        "So, I will write as :\n",
        "\"\"\"\n",
        "str_series.name = \"String Series\"\n",
        "print(str_series)"
      ],
      "execution_count": null,
      "outputs": [
        {
          "output_type": "stream",
          "text": [
            "a    10\n",
            "b    20\n",
            "c    30\n",
            "d    40\n",
            "e    50\n",
            "Name: String Series, dtype: int64\n"
          ],
          "name": "stdout"
        }
      ]
    },
    {
      "cell_type": "code",
      "metadata": {
        "id": "dm2rKjRcC-n_",
        "outputId": "4bb8f84b-498b-4789-ea32-e7e2bf91e658",
        "colab": {
          "base_uri": "https://localhost:8080/",
          "height": 34
        }
      },
      "source": [
        "\"\"\"\n",
        "So, this has set the name to our Pandas Series.\n",
        "\n",
        "Now, with the use of 'dtype' attribute, we can return the data type of the elements in the series\n",
        "So, This time, I will call as :\n",
        "\"\"\"\n",
        "print(str_series.dtype)"
      ],
      "execution_count": null,
      "outputs": [
        {
          "output_type": "stream",
          "text": [
            "int64\n"
          ],
          "name": "stdout"
        }
      ]
    },
    {
      "cell_type": "code",
      "metadata": {
        "id": "hRjHjD40DYHF",
        "outputId": "bddee258-bf6b-46cb-ce19-ff28d95916b2",
        "colab": {
          "base_uri": "https://localhost:8080/",
          "height": 34
        }
      },
      "source": [
        "\"\"\"\n",
        "We have the output as --> integers\n",
        "\n",
        "and Finally, we have the attribute as --> 'index' , and this will return the index values of pandas series.\n",
        "So,\n",
        "\"\"\"\n",
        "print(str_series.index)"
      ],
      "execution_count": null,
      "outputs": [
        {
          "output_type": "stream",
          "text": [
            "Index(['a', 'b', 'c', 'd', 'e'], dtype='object')\n"
          ],
          "name": "stdout"
        }
      ]
    },
    {
      "cell_type": "code",
      "metadata": {
        "id": "2dkbnyKjDjy1",
        "outputId": "8ddbdbd7-ff44-4453-a707-9f65d2c5154e",
        "colab": {
          "base_uri": "https://localhost:8080/",
          "height": 86
        }
      },
      "source": [
        "\"\"\"\n",
        "As we can see, This has returned the index values in our Pandas Series.\n",
        "We can also see the data type of index, \n",
        "It is of 'dtype' --> 'object'\n",
        "\n",
        "(Screen Recording Tip : Show the screen from beginning for below summary)\n",
        "\n",
        "Lets Recap as what we have learnt till now.\n",
        "\n",
        "To create a pandas Series, we first import the pandas library with the shorthand name as pd\n",
        "\n",
        "Then,\n",
        "- To create a pandas series from python lists, we will simply pass the python lists inside the --> pd.Series() constructor\n",
        "- The default indexing of pandas series starts from zero,\n",
        "- We can also specify our required index by making use of 'index' parameter during the creation of Pandas Series\n",
        "- We get the name of Pandas Series, by making use of 'Name' Attribute, In the same way we can access the other attributes\n",
        "  like dtype & index\n",
        "\n",
        "Okay. \n",
        "Now, lets continue our learning of creating the pandas series.\n",
        " \n",
        "Apart from creating the Pandas Series from lists & numpy arrays,\n",
        "We can also create the Pandas Series using the python dictionary.\n",
        "\n",
        "To illustrate this, I will create the python dictionary like this\n",
        "\"\"\"\n",
        "\n",
        "got_dict = {'Catelyn Stark' : 5, 'Cersei Lannister': 2, 'Daenerys Targaryen': 0}\n",
        "\n",
        "# I will now convert this to pandas series like this\n",
        "got_series = pd.Series(got_dict)\n",
        "print (got_series)\n",
        "#I will now execute the code"
      ],
      "execution_count": null,
      "outputs": [
        {
          "output_type": "stream",
          "text": [
            "Catelyn Stark         5\n",
            "Cersei Lannister      2\n",
            "Daenerys Targaryen    0\n",
            "dtype: int64\n"
          ],
          "name": "stdout"
        }
      ]
    },
    {
      "cell_type": "code",
      "metadata": {
        "id": "H-if7J1MFPzd",
        "outputId": "1ae5b989-89ee-49d3-96b4-47cc5eef512e",
        "colab": {
          "base_uri": "https://localhost:8080/",
          "height": 34
        }
      },
      "source": [
        "\"\"\"\n",
        "As we can see in the output,\n",
        "When we create the pandas series using the Python dictionaries, the keys of the dictionary is automatically \n",
        "set as index of the Pandas Series\n",
        "\n",
        "So, using these ways we create the pandas series.\n",
        "\n",
        "Now lets learn as how we can query a pandas series, that is --> how to return a required value from the pandas series\n",
        "\n",
        "Like I said at the start of the video, Pandas Series are considered as a cross between Python lists & dictionaries.\n",
        "\n",
        "Hence to query a pandas series, We can use either its Index position or Index label\n",
        "\n",
        "Lets look at our previous series, that is --> got_series\n",
        "It has index as --> Catelyn stark, cersei lannister & Daenerys Targaryan\n",
        "(Screen Recording tip : make sure the previous series is visible on screen)\n",
        "\n",
        "These index which we see, are called as --> index labels, and behind these index labels, \n",
        "we have the index position which starts from zero\n",
        "\n",
        "To return an element with the use of index position, we make use of --> 'iloc' attribute.\n",
        "To illustrate, I will write as :\n",
        "\"\"\"\n",
        "print(got_series.iloc[1])"
      ],
      "execution_count": null,
      "outputs": [
        {
          "output_type": "stream",
          "text": [
            "2\n"
          ],
          "name": "stdout"
        }
      ]
    },
    {
      "cell_type": "code",
      "metadata": {
        "id": "CQifmMOWNaw5",
        "outputId": "d7d76c29-2021-49cd-bc9c-49b8073bb9fd",
        "colab": {
          "base_uri": "https://localhost:8080/",
          "height": 34
        }
      },
      "source": [
        "\"\"\"\n",
        "So, this has returned the value associated with the index position 1, in our case, it is the value associated with\n",
        "Cersei Lannister , hence we have the value returned as --> 2\n",
        "\n",
        "to build more intuition on this, This time, I will run as -->\n",
        "\"\"\"\n",
        "print(got_series.iloc[0])"
      ],
      "execution_count": null,
      "outputs": [
        {
          "output_type": "stream",
          "text": [
            "5\n"
          ],
          "name": "stdout"
        }
      ]
    },
    {
      "cell_type": "code",
      "metadata": {
        "id": "Jsl2GR0CN5p6",
        "outputId": "94bdd9fc-6ade-466a-8b81-35de54b6fac6",
        "colab": {
          "base_uri": "https://localhost:8080/",
          "height": 86
        }
      },
      "source": [
        "\"\"\"\n",
        "So, we have the output as --> 5, which is the value associated with the index label --> Catelyn Stark\n",
        "\n",
        "Now, not only we can return the value using the 'iloc' attribute, we can also modify the existing data\n",
        "To illustrate, I will write as ;\n",
        "\"\"\"\n",
        "got_series.iloc[2] = 4\n",
        "print(got_series)"
      ],
      "execution_count": null,
      "outputs": [
        {
          "output_type": "stream",
          "text": [
            "Catelyn Stark         5\n",
            "Cersei Lannister      2\n",
            "Daenerys Targaryen    4\n",
            "dtype: int64\n"
          ],
          "name": "stdout"
        }
      ]
    },
    {
      "cell_type": "code",
      "metadata": {
        "id": "IVElrBbIOmXJ",
        "outputId": "c1c5b030-722f-4b94-f648-f540df032bb2",
        "colab": {
          "base_uri": "https://localhost:8080/",
          "height": 34
        }
      },
      "source": [
        "\"\"\"\n",
        "As we can see in the output,\n",
        "We have now changed the value associated with index position 2, to be equal to --> 4\n",
        "hence, we have the value associated with 'Daenerys Targaryen' is equal to 4\n",
        "\n",
        "In this way,\n",
        "we make use of 'iloc' attribute of pandas series to return and modify the data using its index position\n",
        "\n",
        "\n",
        "Now, lets see how we can return a data using the index label\n",
        "\n",
        "To return a data using the index label, we make use of --> 'loc' attribute\n",
        "\n",
        "To illustrate, i will write as :\n",
        "\"\"\"\n",
        "print(got_series.loc['Cersei Lannister'])\n",
        "# As you can see, we will specify the index label inside the 'loc' attribute of pandas series,\n",
        "#I will now execute the code"
      ],
      "execution_count": null,
      "outputs": [
        {
          "output_type": "stream",
          "text": [
            "2\n"
          ],
          "name": "stdout"
        }
      ]
    },
    {
      "cell_type": "code",
      "metadata": {
        "id": "DDPcnpJzO6-N",
        "outputId": "4c53f4cd-52e8-44e5-d599-2226a38053f1",
        "colab": {
          "base_uri": "https://localhost:8080/",
          "height": 86
        }
      },
      "source": [
        "\"\"\"\n",
        "So, we have the output as --> 2. As simple as that.\n",
        "\n",
        "Now, we can also modify the exisiting values by making use of the 'loc' attribute\n",
        "So, I will write as :\n",
        "\"\"\"\n",
        "got_series.loc['Catelyn Stark'] = 10\n",
        "print(got_series)"
      ],
      "execution_count": null,
      "outputs": [
        {
          "output_type": "stream",
          "text": [
            "Catelyn Stark         10\n",
            "Cersei Lannister       2\n",
            "Daenerys Targaryen     4\n",
            "dtype: int64\n"
          ],
          "name": "stdout"
        }
      ]
    },
    {
      "cell_type": "code",
      "metadata": {
        "id": "yfmcThXEQGgp",
        "outputId": "d32052be-9253-4f41-c939-8a4fdf704738",
        "colab": {
          "base_uri": "https://localhost:8080/",
          "height": 104
        }
      },
      "source": [
        "\"\"\"\n",
        "So, this has modified the value associated with index label - 'Catelyn Stark'\n",
        "\n",
        "One special property of 'loc' attribute is, not only we can modify the existing values, we can also add a new \n",
        "elements to pandas series.\n",
        "To illustrate, i will write it like this\n",
        "\"\"\"\n",
        "got_series.loc['Sansa Stark'] = 3\n",
        "print(got_series)"
      ],
      "execution_count": null,
      "outputs": [
        {
          "output_type": "stream",
          "text": [
            "Catelyn Stark         10\n",
            "Cersei Lannister       2\n",
            "Daenerys Targaryen     4\n",
            "Sansa Stark            3\n",
            "dtype: int64\n"
          ],
          "name": "stdout"
        }
      ]
    },
    {
      "cell_type": "code",
      "metadata": {
        "id": "xNc-F2Q0RUjL"
      },
      "source": [
        "\"\"\"\n",
        "So, this has added a new Index label as --> Sansa Stark,  with value as -->3 \n",
        "\n",
        "I hope you now know as how to create a pandas series from scratch, how to query the series, and how to add a new elements to it.\n",
        "With this, we come to the end of this video on Pandas Series.\n",
        "In the next video, we are going to learn as how to work with pandas dataframe\n",
        "\n",
        "\"\"\""
      ],
      "execution_count": null,
      "outputs": []
    }
  ]
}