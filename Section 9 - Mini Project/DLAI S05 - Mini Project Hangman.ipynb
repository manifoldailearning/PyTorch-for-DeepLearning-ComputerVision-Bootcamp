{
 "cells": [
  {
   "cell_type": "code",
   "execution_count": null,
   "metadata": {
    "colab": {},
    "colab_type": "code",
    "id": "eqeNXOgP56yQ"
   },
   "outputs": [],
   "source": [
    "\"\"\"\n",
    "Project Name : Hangman\n",
    "\n",
    "Required Functionality of the game :\n",
    "\n",
    "\n",
    "1. Program assumes a random word, and gives a hint as how many letters are present in that word\n",
    "\n",
    "2. Each player has 10 chances to find the correct word as assumed by program\n",
    "\n",
    "3. The Program can take either a single letter as input or the word as input\n",
    "\n",
    "4. If the user inputs the single letter. Then, if that particular letter is present in assumed word of program,\n",
    "   then, the program return that particuar letter's position in the word.\n",
    "   For Example: If the program's assumed correct word is --> FACEBOOK\n",
    "                & if the user has input the letter as --> O\n",
    "                then, the program should return as --> *****OO*\n",
    "                (that means giving the hint to the user about the position of input letter in the correct word)\n",
    "                \n",
    "5. If the user guesses the right word , then the program should display the - confirmation message with number of\n",
    "   moves made by user to guess the right word\n",
    "   \n",
    "6. If the user is unable to guess the right word after 10 chances, then the program should display the right word\n",
    "   selected by the program.\n",
    "\n",
    "\n",
    "scenarios to be covered:\n",
    "1. User Guesses Right word & system should display the output with number of chances used by user\n",
    "2. User is unable to guess the right word after 10 moves, then program should display the right word\n",
    "3. User inputs the wrong word as input, then proper instruction should be provided to the user\n",
    "\n",
    "All the best\n",
    "\n",
    "\"\"\";"
   ]
  },
  {
   "cell_type": "code",
   "execution_count": 11,
   "metadata": {},
   "outputs": [],
   "source": [
    "#importing the library\n",
    "import random\n",
    "#random.seed(6) #1st scenario\n",
    "#random.seed(7) #2nd Scenario\n",
    "random.seed(9) #3rd scenario"
   ]
  },
  {
   "cell_type": "code",
   "execution_count": 12,
   "metadata": {
    "colab": {},
    "colab_type": "code",
    "id": "Cu1ARyBe56yl"
   },
   "outputs": [],
   "source": [
    "#Implementing the Project\n",
    "class Hangman:\n",
    "    def __init__(self):\n",
    "        self.words = ['twitter','india','iran','instagram','facebook','share','flash','motivation','decide','birds','love','plastic','trump','confess','nail','water','pen','kill','wait','stew']\n",
    "        \n",
    "    #Logic when user inputs a letter\n",
    "    def check(self,correct_word,guesses_list,user_guess):\n",
    "        status = \"\" #empty string\n",
    "        match = 0\n",
    "        for letter in correct_word:\n",
    "            if letter in guesses_list:\n",
    "                status += letter\n",
    "            else:\n",
    "                status += \"*\"\n",
    "            \n",
    "            if letter == user_guess :\n",
    "                match += 1\n",
    "                \n",
    "        if match > 1 :\n",
    "            print(\"You have guessed \",match,\"letters truly :\",user_guess,\" \")\n",
    "        elif match == 1:\n",
    "            print(\"You have guessed 1 letter truly. \",user_guess)\n",
    "        else:\n",
    "            print(\"Entered input does not exist in the word\")\n",
    "        return status\n",
    "    \n",
    "    \n",
    "    def new_game(self):\n",
    "        #select a word from list in a random manner\n",
    "        correct_word = random.choice(self.words).upper()\n",
    "        word_letters = []\n",
    "        for i in correct_word:\n",
    "            word_letters.append(i)\n",
    "        #initializing the game variables\n",
    "        num_of_guess = 0\n",
    "        guesses_list = [] #holds the input from user\n",
    "        max_guess = 10 #Number of guesses allowed per user\n",
    "        guessed = False\n",
    "        hint = '*' * len(word_letters)\n",
    "        print(\"Welcome to the game of Hangman !!, the word is :\",hint,\"and, it has :\",len(word_letters),\"letters. Game begins Now\")\n",
    "        \n",
    "        while(guessed != True and max_guess > 0) :\n",
    "            print(\"You have\",max_guess,\"chances to find the right word.\")\n",
    "            user_guess = input(\"Please input your letter or word : \")\n",
    "            user_guess = user_guess.upper()\n",
    "            if len(user_guess) == 1  or len(user_guess) == len(word_letters) :\n",
    "                num_of_guess += 1\n",
    "                max_guess -= 1\n",
    "                #checking if input already entered\n",
    "                if user_guess in guesses_list :\n",
    "                    print(\"You have already guessed this \",user_guess)\n",
    "                #check input word is correct word\n",
    "                elif len(user_guess) == len(correct_word):\n",
    "                    guesses_list.append(user_guess)\n",
    "                    if user_guess == correct_word :\n",
    "                        guessed = True\n",
    "                    else:\n",
    "                        print(\"Sorry, its not correct\")\n",
    "                #Scenario when user inputs the letter\n",
    "                elif len(user_guess) == 1 :\n",
    "                    guesses_list.append(user_guess)\n",
    "                    result = self.check(correct_word,guesses_list,user_guess)\n",
    "                    if '*' not in result :\n",
    "                        guessed = True\n",
    "                    else :\n",
    "                        print(result)\n",
    "            else:\n",
    "                num_of_guess += 1\n",
    "                max_guess -= 1\n",
    "                print(\"You should enter only 1 letter, or a word with length\",len(word_letters),\".Please try Again\")\n",
    "                \n",
    "        if guessed:\n",
    "            print(\"Congratulations !!! you have found the right word : \",correct_word, \"in\",num_of_guess,\"chances\")\n",
    "\n",
    "        else:\n",
    "            print(\"Sorry!! you have used up all your chances, correct word is :\",correct_word)"
   ]
  },
  {
   "cell_type": "code",
   "execution_count": 13,
   "metadata": {},
   "outputs": [],
   "source": [
    "player1 = Hangman()"
   ]
  },
  {
   "cell_type": "code",
   "execution_count": 14,
   "metadata": {},
   "outputs": [
    {
     "name": "stdout",
     "output_type": "stream",
     "text": [
      "Welcome to the game of Hangman !!, the word is : **** and, it has : 4 letters. Game begins Now\n",
      "You have 10 chances to find the right word.\n",
      "Please input your letter or word : a\n",
      "You have guessed 1 letter truly.  A\n",
      "*A**\n",
      "You have 9 chances to find the right word.\n",
      "Please input your letter or word : a\n",
      "You have already guessed this  A\n",
      "You have 8 chances to find the right word.\n",
      "Please input your letter or word : mate\n",
      "Sorry, its not correct\n",
      "You have 7 chances to find the right word.\n",
      "Please input your letter or word : mate\n",
      "You have already guessed this  MATE\n",
      "You have 6 chances to find the right word.\n",
      "Please input your letter or word : awit\n",
      "Sorry, its not correct\n",
      "You have 5 chances to find the right word.\n",
      "Please input your letter or word : wait\n",
      "Sorry, its not correct\n",
      "You have 4 chances to find the right word.\n",
      "Please input your letter or word : nail\n",
      "Congratulations !!! you have found the right word :  NAIL in 7 chances\n"
     ]
    }
   ],
   "source": [
    "player1.new_game()"
   ]
  },
  {
   "cell_type": "code",
   "execution_count": null,
   "metadata": {},
   "outputs": [],
   "source": []
  },
  {
   "cell_type": "code",
   "execution_count": 2,
   "metadata": {},
   "outputs": [],
   "source": [
    "#test random function\n",
    "my_car = [\"Mercedes C220\", \"Audi Q3\",\"Ford Mustang\", \"Range Rover\", \"Rolls Royce\"]"
   ]
  },
  {
   "cell_type": "code",
   "execution_count": 5,
   "metadata": {},
   "outputs": [
    {
     "data": {
      "text/plain": [
       "'Mercedes C220'"
      ]
     },
     "execution_count": 5,
     "metadata": {},
     "output_type": "execute_result"
    }
   ],
   "source": [
    "#choice function inside the Random library\n",
    "random.choice(my_car)"
   ]
  },
  {
   "cell_type": "code",
   "execution_count": 6,
   "metadata": {},
   "outputs": [
    {
     "data": {
      "text/plain": [
       "'MERCEDES C220'"
      ]
     },
     "execution_count": 6,
     "metadata": {},
     "output_type": "execute_result"
    }
   ],
   "source": [
    "random.choice(my_car).upper()"
   ]
  },
  {
   "cell_type": "code",
   "execution_count": 9,
   "metadata": {},
   "outputs": [
    {
     "name": "stdout",
     "output_type": "stream",
     "text": [
      "['H', 'e', 'l', 'l', 'o']\n"
     ]
    }
   ],
   "source": [
    "#Understand 'for' loop\n",
    "word_letters = []\n",
    "correct_word = 'Hello'\n",
    "for i in correct_word:\n",
    "    word_letters.append(i)\n",
    "print(word_letters)"
   ]
  },
  {
   "cell_type": "code",
   "execution_count": 1,
   "metadata": {},
   "outputs": [
    {
     "name": "stdout",
     "output_type": "stream",
     "text": [
      "*****oo*\n"
     ]
    }
   ],
   "source": [
    "status = \"\" #empty string\n",
    "correct_word = \"facebook\"\n",
    "guesses_list = [\"o\"]\n",
    "\n",
    "for letter in correct_word:\n",
    "    if letter in guesses_list:\n",
    "        status += letter\n",
    "    else:\n",
    "        status += \"*\"\n",
    "print(status)"
   ]
  },
  {
   "cell_type": "code",
   "execution_count": 2,
   "metadata": {},
   "outputs": [
    {
     "name": "stdout",
     "output_type": "stream",
     "text": [
      "*****oo*\n"
     ]
    }
   ],
   "source": [
    "status = \"\" #empty string\n",
    "correct_word = \"facebook\"\n",
    "guesses_list = [\"o\",\"i\"]\n",
    "\n",
    "for letter in correct_word:\n",
    "    if letter in guesses_list:\n",
    "        status += letter\n",
    "    else:\n",
    "        status += \"*\"\n",
    "print(status)"
   ]
  },
  {
   "cell_type": "code",
   "execution_count": null,
   "metadata": {},
   "outputs": [],
   "source": []
  },
  {
   "cell_type": "code",
   "execution_count": null,
   "metadata": {},
   "outputs": [],
   "source": []
  },
  {
   "cell_type": "code",
   "execution_count": null,
   "metadata": {},
   "outputs": [],
   "source": []
  },
  {
   "cell_type": "code",
   "execution_count": null,
   "metadata": {},
   "outputs": [],
   "source": []
  },
  {
   "cell_type": "code",
   "execution_count": null,
   "metadata": {},
   "outputs": [],
   "source": []
  }
 ],
 "metadata": {
  "colab": {
   "name": "DLAI S05A01 - Code for demonstration .ipynb",
   "provenance": []
  },
  "kernelspec": {
   "display_name": "Python 3",
   "language": "python",
   "name": "python3"
  },
  "language_info": {
   "codemirror_mode": {
    "name": "ipython",
    "version": 3
   },
   "file_extension": ".py",
   "mimetype": "text/x-python",
   "name": "python",
   "nbconvert_exporter": "python",
   "pygments_lexer": "ipython3",
   "version": "3.7.3"
  }
 },
 "nbformat": 4,
 "nbformat_minor": 1
}
